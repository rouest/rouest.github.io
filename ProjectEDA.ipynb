{
 "cells": [
  {
   "cell_type": "markdown",
   "metadata": {},
   "source": [
    "# Part 1 of Data 822 Project: Exploratory Data Analysis\n",
    "\n",
    "This set of commands lays out the process I used to explore the training dataset for the project. I start by importing our trusty friends pandas, numpy and matplotlib and set some default parameters for matplotlib."
   ]
  },
  {
   "cell_type": "code",
   "execution_count": 5,
   "metadata": {
    "collapsed": true
   },
   "outputs": [],
   "source": [
    "import pandas as pd\n",
    "import numpy as np\n",
    "import matplotlib\n",
    "matplotlib.rcParams['figure.figsize'] = (12, 8)\n",
    "matplotlib.pyplot.style.use('ggplot')\n",
    "pd.set_option('max.rows', 100)\n",
    "%matplotlib inline"
   ]
  },
  {
   "cell_type": "markdown",
   "metadata": {
    "collapsed": true
   },
   "source": [
    "## 30,000 foot view of the Training Set\n",
    "\n",
    "I started by reading in the training set from the project submission repo and taking a look at it."
   ]
  },
  {
   "cell_type": "code",
   "execution_count": 3,
   "metadata": {
    "collapsed": false
   },
   "outputs": [],
   "source": [
    "# Let's read in the training data set\n",
    "df = pd.read_csv('~/rouest/project-submissions/data/train.csv')"
   ]
  },
  {
   "cell_type": "code",
   "execution_count": 6,
   "metadata": {
    "collapsed": false
   },
   "outputs": [
    {
     "name": "stdout",
     "output_type": "stream",
     "text": [
      "<class 'pandas.core.frame.DataFrame'>\n",
      "RangeIndex: 509009 entries, 0 to 509008\n",
      "Data columns (total 11 columns):\n",
      "step              509009 non-null int64\n",
      "type              509009 non-null object\n",
      "amount            509009 non-null float64\n",
      "nameOrig          509009 non-null object\n",
      "oldbalanceOrg     509009 non-null float64\n",
      "newbalanceOrig    509009 non-null float64\n",
      "nameDest          509009 non-null object\n",
      "oldbalanceDest    509009 non-null float64\n",
      "newbalanceDest    509009 non-null float64\n",
      "isFraud           509009 non-null int64\n",
      "id                509009 non-null int64\n",
      "dtypes: float64(5), int64(3), object(3)\n",
      "memory usage: 42.7+ MB\n"
     ]
    }
   ],
   "source": [
    "# And take a basic look. Already we can see a number of object variables that may need to be converted.\n",
    "df.info()"
   ]
  },
  {
   "cell_type": "markdown",
   "metadata": {
    "collapsed": false
   },
   "source": [
    "And let's just confirm that we aren't going to need to impute any values or remove any incomplete records."
   ]
  },
  {
   "cell_type": "code",
   "execution_count": 7,
   "metadata": {
    "collapsed": false
   },
   "outputs": [
    {
     "data": {
      "text/plain": [
       "step              0\n",
       "type              0\n",
       "amount            0\n",
       "nameOrig          0\n",
       "oldbalanceOrg     0\n",
       "newbalanceOrig    0\n",
       "nameDest          0\n",
       "oldbalanceDest    0\n",
       "newbalanceDest    0\n",
       "isFraud           0\n",
       "id                0\n",
       "dtype: int64"
      ]
     },
     "execution_count": 7,
     "metadata": {},
     "output_type": "execute_result"
    }
   ],
   "source": [
    "df.isnull().sum()"
   ]
  },
  {
   "cell_type": "markdown",
   "metadata": {},
   "source": [
    "## The Data Set: An Explainer\n",
    "\n",
    "Below I've listed the descriptions of each part of our data set from the project repo listed by index on original read in. \n",
    "\n",
    "0. step: maps a unit of time in the real world. In this case 1 step is 1 hour of time. Total steps 744 (30 days simulation)\n",
    "1. type: CASH-IN, CASH-OUT, DEBIT, PAYMENT and TRANSFER\n",
    "2. amount: amount of the transaction in local currency\n",
    "3. nameOrig: customer who started the transaction\n",
    "4. oldbalanceOrg: initial balance before the transaction\n",
    "5. newbalanceOrig: new balance after the transaction\n",
    "6. nameDest: customer who is the recipient of the transaction\n",
    "7. oldbalanceDest: initial balance recipient before the transaction. Note that there is not information for customers that start with M (Merchants)\n",
    "8. newbalanceDest: new balance recipient after the transaction. Note that there is not information for customers that start with M (Merchants)\n",
    "9. isFraud: This is the transactions made by the fraudulent agents inside the simulation. In this specific dataset the fraudulent behavior of the agents aims to profit by taking control or customers accounts and try to empty the funds by transferring to another account and then cashing out of the system\n",
    "10. id: this is a unique ID number for the transaction record\n",
    "\n",
    "Remember that isFraud at index 9 in our target variable!\n",
    "\n",
    "Let's see what the data actually looks like:"
   ]
  },
  {
   "cell_type": "code",
   "execution_count": 9,
   "metadata": {
    "collapsed": false
   },
   "outputs": [
    {
     "data": {
      "text/html": [
       "<div>\n",
       "<table border=\"1\" class=\"dataframe\">\n",
       "  <thead>\n",
       "    <tr style=\"text-align: right;\">\n",
       "      <th></th>\n",
       "      <th>step</th>\n",
       "      <th>type</th>\n",
       "      <th>amount</th>\n",
       "      <th>nameOrig</th>\n",
       "      <th>oldbalanceOrg</th>\n",
       "      <th>newbalanceOrig</th>\n",
       "      <th>nameDest</th>\n",
       "      <th>oldbalanceDest</th>\n",
       "      <th>newbalanceDest</th>\n",
       "      <th>isFraud</th>\n",
       "      <th>id</th>\n",
       "    </tr>\n",
       "  </thead>\n",
       "  <tbody>\n",
       "    <tr>\n",
       "      <th>0</th>\n",
       "      <td>303</td>\n",
       "      <td>CASH_IN</td>\n",
       "      <td>185164.71</td>\n",
       "      <td>C1499985475</td>\n",
       "      <td>3075480.01</td>\n",
       "      <td>3260644.72</td>\n",
       "      <td>C1771727877</td>\n",
       "      <td>881991.88</td>\n",
       "      <td>696827.18</td>\n",
       "      <td>0</td>\n",
       "      <td>540576</td>\n",
       "    </tr>\n",
       "    <tr>\n",
       "      <th>1</th>\n",
       "      <td>356</td>\n",
       "      <td>CASH_IN</td>\n",
       "      <td>79083.65</td>\n",
       "      <td>C108745493</td>\n",
       "      <td>5489716.32</td>\n",
       "      <td>5568799.97</td>\n",
       "      <td>C1167754301</td>\n",
       "      <td>153219.51</td>\n",
       "      <td>74135.86</td>\n",
       "      <td>0</td>\n",
       "      <td>120014</td>\n",
       "    </tr>\n",
       "    <tr>\n",
       "      <th>2</th>\n",
       "      <td>10</td>\n",
       "      <td>TRANSFER</td>\n",
       "      <td>2336832.78</td>\n",
       "      <td>C975415534</td>\n",
       "      <td>147958.78</td>\n",
       "      <td>0.00</td>\n",
       "      <td>C718985478</td>\n",
       "      <td>5069347.06</td>\n",
       "      <td>7307970.46</td>\n",
       "      <td>0</td>\n",
       "      <td>623141</td>\n",
       "    </tr>\n",
       "    <tr>\n",
       "      <th>3</th>\n",
       "      <td>238</td>\n",
       "      <td>TRANSFER</td>\n",
       "      <td>228517.91</td>\n",
       "      <td>C1968162743</td>\n",
       "      <td>0.00</td>\n",
       "      <td>0.00</td>\n",
       "      <td>C1544755390</td>\n",
       "      <td>18768561.09</td>\n",
       "      <td>18997079.00</td>\n",
       "      <td>0</td>\n",
       "      <td>547737</td>\n",
       "    </tr>\n",
       "    <tr>\n",
       "      <th>4</th>\n",
       "      <td>133</td>\n",
       "      <td>CASH_IN</td>\n",
       "      <td>180179.73</td>\n",
       "      <td>C467196066</td>\n",
       "      <td>21448.00</td>\n",
       "      <td>201627.73</td>\n",
       "      <td>C1386847873</td>\n",
       "      <td>7160295.13</td>\n",
       "      <td>6980115.40</td>\n",
       "      <td>0</td>\n",
       "      <td>569291</td>\n",
       "    </tr>\n",
       "    <tr>\n",
       "      <th>5</th>\n",
       "      <td>355</td>\n",
       "      <td>CASH_OUT</td>\n",
       "      <td>152809.83</td>\n",
       "      <td>C835813539</td>\n",
       "      <td>0.00</td>\n",
       "      <td>0.00</td>\n",
       "      <td>C1697188789</td>\n",
       "      <td>179097.81</td>\n",
       "      <td>331907.64</td>\n",
       "      <td>0</td>\n",
       "      <td>621439</td>\n",
       "    </tr>\n",
       "    <tr>\n",
       "      <th>6</th>\n",
       "      <td>379</td>\n",
       "      <td>CASH_OUT</td>\n",
       "      <td>119283.52</td>\n",
       "      <td>C1320649033</td>\n",
       "      <td>320946.00</td>\n",
       "      <td>201662.48</td>\n",
       "      <td>C1196142176</td>\n",
       "      <td>633606.80</td>\n",
       "      <td>752890.31</td>\n",
       "      <td>0</td>\n",
       "      <td>122016</td>\n",
       "    </tr>\n",
       "    <tr>\n",
       "      <th>7</th>\n",
       "      <td>178</td>\n",
       "      <td>PAYMENT</td>\n",
       "      <td>17037.96</td>\n",
       "      <td>C502419545</td>\n",
       "      <td>0.00</td>\n",
       "      <td>0.00</td>\n",
       "      <td>M1419983756</td>\n",
       "      <td>0.00</td>\n",
       "      <td>0.00</td>\n",
       "      <td>0</td>\n",
       "      <td>181905</td>\n",
       "    </tr>\n",
       "    <tr>\n",
       "      <th>8</th>\n",
       "      <td>283</td>\n",
       "      <td>PAYMENT</td>\n",
       "      <td>1658.36</td>\n",
       "      <td>C1804417059</td>\n",
       "      <td>0.00</td>\n",
       "      <td>0.00</td>\n",
       "      <td>M1729883225</td>\n",
       "      <td>0.00</td>\n",
       "      <td>0.00</td>\n",
       "      <td>0</td>\n",
       "      <td>604829</td>\n",
       "    </tr>\n",
       "    <tr>\n",
       "      <th>9</th>\n",
       "      <td>233</td>\n",
       "      <td>DEBIT</td>\n",
       "      <td>2539.38</td>\n",
       "      <td>C178740880</td>\n",
       "      <td>15230.00</td>\n",
       "      <td>12690.62</td>\n",
       "      <td>C34403520</td>\n",
       "      <td>779456.01</td>\n",
       "      <td>1108570.97</td>\n",
       "      <td>0</td>\n",
       "      <td>549197</td>\n",
       "    </tr>\n",
       "    <tr>\n",
       "      <th>10</th>\n",
       "      <td>42</td>\n",
       "      <td>CASH_IN</td>\n",
       "      <td>302335.54</td>\n",
       "      <td>C443150216</td>\n",
       "      <td>10528719.85</td>\n",
       "      <td>10831055.39</td>\n",
       "      <td>C303009903</td>\n",
       "      <td>820532.75</td>\n",
       "      <td>518197.21</td>\n",
       "      <td>0</td>\n",
       "      <td>343693</td>\n",
       "    </tr>\n",
       "    <tr>\n",
       "      <th>11</th>\n",
       "      <td>397</td>\n",
       "      <td>PAYMENT</td>\n",
       "      <td>8718.25</td>\n",
       "      <td>C974457792</td>\n",
       "      <td>0.00</td>\n",
       "      <td>0.00</td>\n",
       "      <td>M1324377813</td>\n",
       "      <td>0.00</td>\n",
       "      <td>0.00</td>\n",
       "      <td>0</td>\n",
       "      <td>634364</td>\n",
       "    </tr>\n",
       "    <tr>\n",
       "      <th>12</th>\n",
       "      <td>185</td>\n",
       "      <td>CASH_IN</td>\n",
       "      <td>118441.00</td>\n",
       "      <td>C2081805049</td>\n",
       "      <td>102465.00</td>\n",
       "      <td>220906.00</td>\n",
       "      <td>C1012713660</td>\n",
       "      <td>0.00</td>\n",
       "      <td>0.00</td>\n",
       "      <td>0</td>\n",
       "      <td>48412</td>\n",
       "    </tr>\n",
       "    <tr>\n",
       "      <th>13</th>\n",
       "      <td>351</td>\n",
       "      <td>CASH_OUT</td>\n",
       "      <td>186696.51</td>\n",
       "      <td>C1046187494</td>\n",
       "      <td>134471.00</td>\n",
       "      <td>0.00</td>\n",
       "      <td>C205492948</td>\n",
       "      <td>2852.24</td>\n",
       "      <td>189548.75</td>\n",
       "      <td>0</td>\n",
       "      <td>416717</td>\n",
       "    </tr>\n",
       "    <tr>\n",
       "      <th>14</th>\n",
       "      <td>11</td>\n",
       "      <td>PAYMENT</td>\n",
       "      <td>6113.37</td>\n",
       "      <td>C1673645214</td>\n",
       "      <td>105.00</td>\n",
       "      <td>0.00</td>\n",
       "      <td>M52236598</td>\n",
       "      <td>0.00</td>\n",
       "      <td>0.00</td>\n",
       "      <td>0</td>\n",
       "      <td>543932</td>\n",
       "    </tr>\n",
       "    <tr>\n",
       "      <th>15</th>\n",
       "      <td>16</td>\n",
       "      <td>CASH_OUT</td>\n",
       "      <td>39297.65</td>\n",
       "      <td>C869501792</td>\n",
       "      <td>0.00</td>\n",
       "      <td>0.00</td>\n",
       "      <td>C1758687081</td>\n",
       "      <td>152234.34</td>\n",
       "      <td>717320.94</td>\n",
       "      <td>0</td>\n",
       "      <td>143067</td>\n",
       "    </tr>\n",
       "    <tr>\n",
       "      <th>16</th>\n",
       "      <td>232</td>\n",
       "      <td>CASH_IN</td>\n",
       "      <td>64653.54</td>\n",
       "      <td>C1558381904</td>\n",
       "      <td>1746874.41</td>\n",
       "      <td>1811527.95</td>\n",
       "      <td>C1843550991</td>\n",
       "      <td>962760.52</td>\n",
       "      <td>898106.98</td>\n",
       "      <td>0</td>\n",
       "      <td>571091</td>\n",
       "    </tr>\n",
       "    <tr>\n",
       "      <th>17</th>\n",
       "      <td>227</td>\n",
       "      <td>CASH_OUT</td>\n",
       "      <td>119832.17</td>\n",
       "      <td>C1488033658</td>\n",
       "      <td>0.00</td>\n",
       "      <td>0.00</td>\n",
       "      <td>C1008168506</td>\n",
       "      <td>191039.29</td>\n",
       "      <td>310871.46</td>\n",
       "      <td>0</td>\n",
       "      <td>145708</td>\n",
       "    </tr>\n",
       "    <tr>\n",
       "      <th>18</th>\n",
       "      <td>202</td>\n",
       "      <td>CASH_OUT</td>\n",
       "      <td>380870.26</td>\n",
       "      <td>C389555387</td>\n",
       "      <td>361.00</td>\n",
       "      <td>0.00</td>\n",
       "      <td>C1143935957</td>\n",
       "      <td>136647.16</td>\n",
       "      <td>517517.42</td>\n",
       "      <td>0</td>\n",
       "      <td>417571</td>\n",
       "    </tr>\n",
       "    <tr>\n",
       "      <th>19</th>\n",
       "      <td>307</td>\n",
       "      <td>CASH_OUT</td>\n",
       "      <td>298693.47</td>\n",
       "      <td>C669123051</td>\n",
       "      <td>163778.00</td>\n",
       "      <td>0.00</td>\n",
       "      <td>C163613986</td>\n",
       "      <td>0.00</td>\n",
       "      <td>298693.47</td>\n",
       "      <td>0</td>\n",
       "      <td>57840</td>\n",
       "    </tr>\n",
       "  </tbody>\n",
       "</table>\n",
       "</div>"
      ],
      "text/plain": [
       "    step      type      amount     nameOrig  oldbalanceOrg  newbalanceOrig  \\\n",
       "0    303   CASH_IN   185164.71  C1499985475     3075480.01      3260644.72   \n",
       "1    356   CASH_IN    79083.65   C108745493     5489716.32      5568799.97   \n",
       "2     10  TRANSFER  2336832.78   C975415534      147958.78            0.00   \n",
       "3    238  TRANSFER   228517.91  C1968162743           0.00            0.00   \n",
       "4    133   CASH_IN   180179.73   C467196066       21448.00       201627.73   \n",
       "5    355  CASH_OUT   152809.83   C835813539           0.00            0.00   \n",
       "6    379  CASH_OUT   119283.52  C1320649033      320946.00       201662.48   \n",
       "7    178   PAYMENT    17037.96   C502419545           0.00            0.00   \n",
       "8    283   PAYMENT     1658.36  C1804417059           0.00            0.00   \n",
       "9    233     DEBIT     2539.38   C178740880       15230.00        12690.62   \n",
       "10    42   CASH_IN   302335.54   C443150216    10528719.85     10831055.39   \n",
       "11   397   PAYMENT     8718.25   C974457792           0.00            0.00   \n",
       "12   185   CASH_IN   118441.00  C2081805049      102465.00       220906.00   \n",
       "13   351  CASH_OUT   186696.51  C1046187494      134471.00            0.00   \n",
       "14    11   PAYMENT     6113.37  C1673645214         105.00            0.00   \n",
       "15    16  CASH_OUT    39297.65   C869501792           0.00            0.00   \n",
       "16   232   CASH_IN    64653.54  C1558381904     1746874.41      1811527.95   \n",
       "17   227  CASH_OUT   119832.17  C1488033658           0.00            0.00   \n",
       "18   202  CASH_OUT   380870.26   C389555387         361.00            0.00   \n",
       "19   307  CASH_OUT   298693.47   C669123051      163778.00            0.00   \n",
       "\n",
       "       nameDest  oldbalanceDest  newbalanceDest  isFraud      id  \n",
       "0   C1771727877       881991.88       696827.18        0  540576  \n",
       "1   C1167754301       153219.51        74135.86        0  120014  \n",
       "2    C718985478      5069347.06      7307970.46        0  623141  \n",
       "3   C1544755390     18768561.09     18997079.00        0  547737  \n",
       "4   C1386847873      7160295.13      6980115.40        0  569291  \n",
       "5   C1697188789       179097.81       331907.64        0  621439  \n",
       "6   C1196142176       633606.80       752890.31        0  122016  \n",
       "7   M1419983756            0.00            0.00        0  181905  \n",
       "8   M1729883225            0.00            0.00        0  604829  \n",
       "9     C34403520       779456.01      1108570.97        0  549197  \n",
       "10   C303009903       820532.75       518197.21        0  343693  \n",
       "11  M1324377813            0.00            0.00        0  634364  \n",
       "12  C1012713660            0.00            0.00        0   48412  \n",
       "13   C205492948         2852.24       189548.75        0  416717  \n",
       "14    M52236598            0.00            0.00        0  543932  \n",
       "15  C1758687081       152234.34       717320.94        0  143067  \n",
       "16  C1843550991       962760.52       898106.98        0  571091  \n",
       "17  C1008168506       191039.29       310871.46        0  145708  \n",
       "18  C1143935957       136647.16       517517.42        0  417571  \n",
       "19   C163613986            0.00       298693.47        0   57840  "
      ]
     },
     "execution_count": 9,
     "metadata": {},
     "output_type": "execute_result"
    }
   ],
   "source": [
    "# Looking at the data\n",
    "df.head(20)"
   ]
  },
  {
   "cell_type": "code",
   "execution_count": 12,
   "metadata": {
    "collapsed": false
   },
   "outputs": [
    {
     "data": {
      "text/html": [
       "<div>\n",
       "<table border=\"1\" class=\"dataframe\">\n",
       "  <thead>\n",
       "    <tr style=\"text-align: right;\">\n",
       "      <th></th>\n",
       "      <th>step</th>\n",
       "      <th>type</th>\n",
       "      <th>amount</th>\n",
       "      <th>nameOrig</th>\n",
       "      <th>oldbalanceOrg</th>\n",
       "      <th>newbalanceOrig</th>\n",
       "      <th>nameDest</th>\n",
       "      <th>oldbalanceDest</th>\n",
       "      <th>newbalanceDest</th>\n",
       "      <th>isFraud</th>\n",
       "      <th>id</th>\n",
       "    </tr>\n",
       "  </thead>\n",
       "  <tbody>\n",
       "    <tr>\n",
       "      <th>636</th>\n",
       "      <td>265</td>\n",
       "      <td>CASH_OUT</td>\n",
       "      <td>881187.51</td>\n",
       "      <td>C1389553281</td>\n",
       "      <td>881187.51</td>\n",
       "      <td>0.00</td>\n",
       "      <td>C372435481</td>\n",
       "      <td>35321.01</td>\n",
       "      <td>916508.52</td>\n",
       "      <td>1</td>\n",
       "      <td>163801</td>\n",
       "    </tr>\n",
       "    <tr>\n",
       "      <th>881</th>\n",
       "      <td>190</td>\n",
       "      <td>CASH_OUT</td>\n",
       "      <td>605029.34</td>\n",
       "      <td>C1568238028</td>\n",
       "      <td>605029.34</td>\n",
       "      <td>0.00</td>\n",
       "      <td>C506455454</td>\n",
       "      <td>211936.17</td>\n",
       "      <td>816965.52</td>\n",
       "      <td>1</td>\n",
       "      <td>88860</td>\n",
       "    </tr>\n",
       "    <tr>\n",
       "      <th>2340</th>\n",
       "      <td>160</td>\n",
       "      <td>TRANSFER</td>\n",
       "      <td>548161.93</td>\n",
       "      <td>C814345778</td>\n",
       "      <td>548161.93</td>\n",
       "      <td>0.00</td>\n",
       "      <td>C1464577173</td>\n",
       "      <td>0.00</td>\n",
       "      <td>0.00</td>\n",
       "      <td>1</td>\n",
       "      <td>507125</td>\n",
       "    </tr>\n",
       "    <tr>\n",
       "      <th>3605</th>\n",
       "      <td>425</td>\n",
       "      <td>CASH_OUT</td>\n",
       "      <td>486175.40</td>\n",
       "      <td>C1737680610</td>\n",
       "      <td>486175.40</td>\n",
       "      <td>0.00</td>\n",
       "      <td>C1596545373</td>\n",
       "      <td>0.00</td>\n",
       "      <td>486175.40</td>\n",
       "      <td>1</td>\n",
       "      <td>90109</td>\n",
       "    </tr>\n",
       "    <tr>\n",
       "      <th>6406</th>\n",
       "      <td>451</td>\n",
       "      <td>TRANSFER</td>\n",
       "      <td>9265.43</td>\n",
       "      <td>C1329487815</td>\n",
       "      <td>9265.43</td>\n",
       "      <td>0.00</td>\n",
       "      <td>C1936702457</td>\n",
       "      <td>0.00</td>\n",
       "      <td>0.00</td>\n",
       "      <td>1</td>\n",
       "      <td>463575</td>\n",
       "    </tr>\n",
       "    <tr>\n",
       "      <th>6419</th>\n",
       "      <td>186</td>\n",
       "      <td>TRANSFER</td>\n",
       "      <td>179321.12</td>\n",
       "      <td>C1132083905</td>\n",
       "      <td>179321.12</td>\n",
       "      <td>0.00</td>\n",
       "      <td>C955198432</td>\n",
       "      <td>0.00</td>\n",
       "      <td>0.00</td>\n",
       "      <td>1</td>\n",
       "      <td>53504</td>\n",
       "    </tr>\n",
       "    <tr>\n",
       "      <th>7871</th>\n",
       "      <td>514</td>\n",
       "      <td>TRANSFER</td>\n",
       "      <td>10880.26</td>\n",
       "      <td>C132837208</td>\n",
       "      <td>10880.26</td>\n",
       "      <td>0.00</td>\n",
       "      <td>C457634395</td>\n",
       "      <td>0.00</td>\n",
       "      <td>0.00</td>\n",
       "      <td>1</td>\n",
       "      <td>184398</td>\n",
       "    </tr>\n",
       "    <tr>\n",
       "      <th>9953</th>\n",
       "      <td>161</td>\n",
       "      <td>TRANSFER</td>\n",
       "      <td>10000000.00</td>\n",
       "      <td>C831325954</td>\n",
       "      <td>11336901.11</td>\n",
       "      <td>1336901.11</td>\n",
       "      <td>C1166671647</td>\n",
       "      <td>0.00</td>\n",
       "      <td>0.00</td>\n",
       "      <td>1</td>\n",
       "      <td>129097</td>\n",
       "    </tr>\n",
       "    <tr>\n",
       "      <th>9986</th>\n",
       "      <td>217</td>\n",
       "      <td>TRANSFER</td>\n",
       "      <td>972713.05</td>\n",
       "      <td>C706587857</td>\n",
       "      <td>972713.05</td>\n",
       "      <td>0.00</td>\n",
       "      <td>C1000855680</td>\n",
       "      <td>0.00</td>\n",
       "      <td>0.00</td>\n",
       "      <td>1</td>\n",
       "      <td>179789</td>\n",
       "    </tr>\n",
       "    <tr>\n",
       "      <th>12400</th>\n",
       "      <td>724</td>\n",
       "      <td>CASH_OUT</td>\n",
       "      <td>72389.42</td>\n",
       "      <td>C2090432901</td>\n",
       "      <td>72389.42</td>\n",
       "      <td>0.00</td>\n",
       "      <td>C2044300505</td>\n",
       "      <td>397599.55</td>\n",
       "      <td>469988.97</td>\n",
       "      <td>1</td>\n",
       "      <td>113267</td>\n",
       "    </tr>\n",
       "  </tbody>\n",
       "</table>\n",
       "</div>"
      ],
      "text/plain": [
       "       step      type       amount     nameOrig  oldbalanceOrg  \\\n",
       "636     265  CASH_OUT    881187.51  C1389553281      881187.51   \n",
       "881     190  CASH_OUT    605029.34  C1568238028      605029.34   \n",
       "2340    160  TRANSFER    548161.93   C814345778      548161.93   \n",
       "3605    425  CASH_OUT    486175.40  C1737680610      486175.40   \n",
       "6406    451  TRANSFER      9265.43  C1329487815        9265.43   \n",
       "6419    186  TRANSFER    179321.12  C1132083905      179321.12   \n",
       "7871    514  TRANSFER     10880.26   C132837208       10880.26   \n",
       "9953    161  TRANSFER  10000000.00   C831325954    11336901.11   \n",
       "9986    217  TRANSFER    972713.05   C706587857      972713.05   \n",
       "12400   724  CASH_OUT     72389.42  C2090432901       72389.42   \n",
       "\n",
       "       newbalanceOrig     nameDest  oldbalanceDest  newbalanceDest  isFraud  \\\n",
       "636              0.00   C372435481        35321.01       916508.52        1   \n",
       "881              0.00   C506455454       211936.17       816965.52        1   \n",
       "2340             0.00  C1464577173            0.00            0.00        1   \n",
       "3605             0.00  C1596545373            0.00       486175.40        1   \n",
       "6406             0.00  C1936702457            0.00            0.00        1   \n",
       "6419             0.00   C955198432            0.00            0.00        1   \n",
       "7871             0.00   C457634395            0.00            0.00        1   \n",
       "9953       1336901.11  C1166671647            0.00            0.00        1   \n",
       "9986             0.00  C1000855680            0.00            0.00        1   \n",
       "12400            0.00  C2044300505       397599.55       469988.97        1   \n",
       "\n",
       "           id  \n",
       "636    163801  \n",
       "881     88860  \n",
       "2340   507125  \n",
       "3605    90109  \n",
       "6406   463575  \n",
       "6419    53504  \n",
       "7871   184398  \n",
       "9953   129097  \n",
       "9986   179789  \n",
       "12400  113267  "
      ]
     },
     "execution_count": 12,
     "metadata": {},
     "output_type": "execute_result"
    }
   ],
   "source": [
    "# Since I don't see any fraudulent records in the firs head() call, let's make sure they are there!\n",
    "df[df.isFraud == 1].head(10)"
   ]
  },
  {
   "cell_type": "code",
   "execution_count": 16,
   "metadata": {
    "collapsed": false
   },
   "outputs": [
    {
     "name": "stdout",
     "output_type": "stream",
     "text": [
      "<class 'pandas.core.frame.DataFrame'>\n",
      "Int64Index: 669 entries, 636 to 507597\n",
      "Data columns (total 11 columns):\n",
      "step              669 non-null int64\n",
      "type              669 non-null object\n",
      "amount            669 non-null float64\n",
      "nameOrig          669 non-null object\n",
      "oldbalanceOrg     669 non-null float64\n",
      "newbalanceOrig    669 non-null float64\n",
      "nameDest          669 non-null object\n",
      "oldbalanceDest    669 non-null float64\n",
      "newbalanceDest    669 non-null float64\n",
      "isFraud           669 non-null int64\n",
      "id                669 non-null int64\n",
      "dtypes: float64(5), int64(3), object(3)\n",
      "memory usage: 62.7+ KB\n"
     ]
    }
   ],
   "source": [
    "# Let's also take a look at isFraud = 1 as a percentage of our overall data set\n",
    "df[df.isFraud == 1].info()"
   ]
  },
  {
   "cell_type": "code",
   "execution_count": 32,
   "metadata": {
    "collapsed": false
   },
   "outputs": [
    {
     "name": "stdout",
     "output_type": "stream",
     "text": [
      "The percentage of our dataset that has isFraud = 1 is 0.13143186073330726 percent.\n"
     ]
    }
   ],
   "source": [
    "print('The percentage of our dataset that has isFraud = 1 is %s percent.' % (df[df.isFraud == 1].shape[0]/df.shape[0]*100))"
   ]
  },
  {
   "cell_type": "markdown",
   "metadata": {
    "collapsed": false
   },
   "source": [
    "## Working through the disctinction between isFraud and NOT isFraud\n",
    "\n",
    "In the following section, I am going to try to work methodically through each of our features to see any obvious deliniations for our taget variable. Let's start with step:"
   ]
  },
  {
   "cell_type": "code",
   "execution_count": 14,
   "metadata": {
    "collapsed": true
   },
   "outputs": [],
   "source": [
    "# So we don't have to include the logic on each call of df, let's make an isFraud = 1 df called dfraud\n",
    "dfraud = df.loc[df.isFraud == 1]"
   ]
  },
  {
   "cell_type": "markdown",
   "metadata": {},
   "source": [
    "## Looking at the whole set  vs. the isFraud set by step\n",
    "\n",
    "Below I wanted to compare the a normed histogram for df and dfraud to see any comparative differences. I used normed = True in order to overlay them and actually be able to see the isFraud set."
   ]
  },
  {
   "cell_type": "code",
   "execution_count": 39,
   "metadata": {
    "collapsed": false
   },
   "outputs": [
    {
     "data": {
      "image/png": "[encoded data removed]",
      "text/plain": [
       "<matplotlib.figure.Figure at 0x1173549e8>"
      ]
     },
     "metadata": {},
     "output_type": "display_data"
    }
   ],
   "source": [
    "steps = df.step.plot.hist(label = 'All Records', alpha = 0.8, \n",
    "                            range = (df.step.min(), df.step.max()), bins = 20, normed = True)\n",
    "ifsteps = dfraud.step.plot.hist(label = 'Fraud', alpha = 0.5, bins = 20, normed = True) \n",
    "\n",
    "steps.legend();\n",
    "ifsteps.legend();"
   ]
  },
  {
   "cell_type": "markdown",
   "metadata": {},
   "source": [
    "Looking at the records with step > 400, it almost appears as those isFraud follows the same distribution; let's take a closer look."
   ]
  },
  {
   "cell_type": "code",
   "execution_count": 41,
   "metadata": {
    "collapsed": true
   },
   "outputs": [],
   "source": [
    "# We'll start with a non-fraud dataframe\n",
    "dfnot = df.loc[df.isFraud == 0]"
   ]
  },
  {
   "cell_type": "code",
   "execution_count": 43,
   "metadata": {
    "collapsed": false
   },
   "outputs": [
    {
     "data": {
      "image/png": "[encoded data removed]",
      "text/plain": [
       "<matplotlib.figure.Figure at 0x10ec28470>"
      ]
     },
     "metadata": {},
     "output_type": "display_data"
    }
   ],
   "source": [
    "# And then run the same plot but with the range set for dfraud.step.max()\n",
    "steps2 = dfnot.step.plot.hist(label = 'Not Fraud', alpha = 0.8, \n",
    "                            range = (dfnot.step.min(), dfraud.step.max()), bins = 20, normed = True)\n",
    "ifsteps2 = dfraud.step.plot.hist(label = 'Fraud', alpha = 0.5, bins = 20, normed = True) \n",
    "\n",
    "steps2.legend();\n",
    "ifsteps2.legend();"
   ]
  },
  {
   "cell_type": "markdown",
   "metadata": {},
   "source": [
    "Dang, I half expected all records with steps > 400 to be accounted for by isFraud records. Of course it wasn't going to be that easy. Onward and upward!"
   ]
  },
  {
   "cell_type": "markdown",
   "metadata": {},
   "source": [
    "## Let's get into our types!\n",
    "\n",
    "Below we are going to explore the distribution of our transaction types. "
   ]
  },
  {
   "cell_type": "code",
   "execution_count": 45,
   "metadata": {
    "collapsed": false
   },
   "outputs": [
    {
     "data": {
      "text/plain": [
       "CASH_OUT    178951\n",
       "PAYMENT     172717\n",
       "CASH_IN     111816\n",
       "TRANSFER     42211\n",
       "DEBIT         3314\n",
       "Name: type, dtype: int64"
      ]
     },
     "execution_count": 45,
     "metadata": {},
     "output_type": "execute_result"
    }
   ],
   "source": [
    "# Starting with the whole set\n",
    "df['type'].value_counts()"
   ]
  },
  {
   "cell_type": "code",
   "execution_count": 47,
   "metadata": {
    "collapsed": false
   },
   "outputs": [
    {
     "data": {
      "text/plain": [
       "CASH_OUT    339\n",
       "TRANSFER    330\n",
       "Name: type, dtype: int64"
      ]
     },
     "execution_count": 47,
     "metadata": {},
     "output_type": "execute_result"
    }
   ],
   "source": [
    "# and then isFraud\n",
    "dfraud['type'].value_counts()"
   ]
  },
  {
   "cell_type": "markdown",
   "metadata": {},
   "source": [
    "Interesting! This tells us with some confidence that isFraud = 1 will likely be isolated to those transaction types."
   ]
  },
  {
   "cell_type": "markdown",
   "metadata": {},
   "source": [
    "## Into the floats we go, starting with amount!\n",
    "\n",
    "Below we are going to start working through our floats including, amount, oldbalanceOrg, newbalanceOrg, oldbalanceDest and newbalanceDest. We aren't including ID as that is not going to be in our feature space. "
   ]
  },
  {
   "cell_type": "code",
   "execution_count": 72,
   "metadata": {
    "collapsed": false
   },
   "outputs": [
    {
     "data": {
      "text/plain": [
       "count    5.090090e+05\n",
       "mean     1.781422e+05\n",
       "std      6.030880e+05\n",
       "min      0.000000e+00\n",
       "25%      1.336686e+04\n",
       "50%      7.452952e+04\n",
       "75%      2.084647e+05\n",
       "max      9.244552e+07\n",
       "Name: amount, dtype: float64"
      ]
     },
     "execution_count": 72,
     "metadata": {},
     "output_type": "execute_result"
    }
   ],
   "source": [
    "df.describe(include= None).amount"
   ]
  },
  {
   "cell_type": "code",
   "execution_count": 75,
   "metadata": {
    "collapsed": false
   },
   "outputs": [
    {
     "data": {
      "text/plain": [
       "count    6.690000e+02\n",
       "mean     1.434819e+06\n",
       "std      2.352313e+06\n",
       "min      0.000000e+00\n",
       "25%      1.191438e+05\n",
       "50%      4.475892e+05\n",
       "75%      1.388952e+06\n",
       "max      1.000000e+07\n",
       "Name: amount, dtype: float64"
      ]
     },
     "execution_count": 75,
     "metadata": {},
     "output_type": "execute_result"
    }
   ],
   "source": [
    "dfraud.describe(include= None).amount"
   ]
  },
  {
   "cell_type": "markdown",
   "metadata": {},
   "source": [
    "We can see a significant difference in mean between df a dfraud amounts but let's try to visualize them."
   ]
  },
  {
   "cell_type": "code",
   "execution_count": 83,
   "metadata": {
    "collapsed": false
   },
   "outputs": [
    {
     "data": {
      "image/png": "[encoded data removed]",
      "text/plain": [
       "<matplotlib.figure.Figure at 0x11b519048>"
      ]
     },
     "metadata": {},
     "output_type": "display_data"
    }
   ],
   "source": [
    "df.amount.plot.hist();"
   ]
  },
  {
   "cell_type": "markdown",
   "metadata": {},
   "source": [
    "Well that's not helpful. Looks like the amounts are so skewed we'll need to transform to visualize. Let's see if we can kill two birds with one stone using numpy's log1p."
   ]
  },
  {
   "cell_type": "code",
   "execution_count": 87,
   "metadata": {
    "collapsed": false,
    "scrolled": true
   },
   "outputs": [
    {
     "data": {
      "image/png": "[encoded data removed]",
      "text/plain": [
       "<matplotlib.figure.Figure at 0x11e3f8ac8>"
      ]
     },
     "metadata": {},
     "output_type": "display_data"
    }
   ],
   "source": [
    "amount = np.log1p(df.amount).plot.hist(label = 'Not Fraud', alpha = 0.8, \n",
    "                            bins = 20, normed = True)\n",
    "famount = np.log1p(dfraud.amount).plot.hist(label = 'Fraud', alpha = 0.5, bins = 20, normed = True) \n",
    "\n",
    "amount.legend();\n",
    "famount.legend();"
   ]
  },
  {
   "cell_type": "markdown",
   "metadata": {},
   "source": [
    "Not only are we successsul in actually seeing the full scope of out data, we now know that log1p transformation gets us much closer to a normal distribution. Let's try the same thing with our other floats."
   ]
  },
  {
   "cell_type": "code",
   "execution_count": 89,
   "metadata": {
    "collapsed": false
   },
   "outputs": [
    {
     "data": {
      "text/plain": [
       "count    5.090090e+05\n",
       "mean     8.310125e+05\n",
       "std      2.879680e+06\n",
       "min      0.000000e+00\n",
       "25%      0.000000e+00\n",
       "50%      1.425700e+04\n",
       "75%      1.075330e+05\n",
       "max      5.039905e+07\n",
       "Name: oldbalanceOrg, dtype: float64"
      ]
     },
     "execution_count": 89,
     "metadata": {},
     "output_type": "execute_result"
    }
   ],
   "source": [
    "df.describe(include= None).oldbalanceOrg"
   ]
  },
  {
   "cell_type": "code",
   "execution_count": 90,
   "metadata": {
    "collapsed": false
   },
   "outputs": [
    {
     "data": {
      "text/plain": [
       "count    6.690000e+02\n",
       "mean     1.598529e+06\n",
       "std      3.478363e+06\n",
       "min      0.000000e+00\n",
       "25%      1.191438e+05\n",
       "50%      4.475892e+05\n",
       "75%      1.388952e+06\n",
       "max      5.039905e+07\n",
       "Name: oldbalanceOrg, dtype: float64"
      ]
     },
     "execution_count": 90,
     "metadata": {},
     "output_type": "execute_result"
    }
   ],
   "source": [
    "dfraud.describe(include= None).oldbalanceOrg"
   ]
  },
  {
   "cell_type": "code",
   "execution_count": 91,
   "metadata": {
    "collapsed": false,
    "scrolled": true
   },
   "outputs": [
    {
     "data": {
      "image/png": "[encoded data removed]",
      "text/plain": [
       "<matplotlib.figure.Figure at 0x1169a3550>"
      ]
     },
     "metadata": {},
     "output_type": "display_data"
    }
   ],
   "source": [
    "oldbalanceOrg = np.log1p(df.oldbalanceOrg).plot.hist(label = 'Not Fraud', alpha = 0.8, \n",
    "                            bins = 20, normed = True)\n",
    "foldbalanceOrg = np.log1p(dfraud.oldbalanceOrg).plot.hist(label = 'Fraud', alpha = 0.5, bins = 20, normed = True) \n",
    "\n",
    "oldbalanceOrg.legend();\n",
    "foldbalanceOrg.legend();"
   ]
  },
  {
   "cell_type": "markdown",
   "metadata": {},
   "source": [
    "Looks like very few of our isFraud cases have a beginning balance from the source account of 0 when compared to all records. "
   ]
  },
  {
   "cell_type": "code",
   "execution_count": 92,
   "metadata": {
    "collapsed": false
   },
   "outputs": [
    {
     "data": {
      "text/plain": [
       "count    5.090090e+05\n",
       "mean     8.523704e+05\n",
       "std      2.915303e+06\n",
       "min      0.000000e+00\n",
       "25%      0.000000e+00\n",
       "50%      0.000000e+00\n",
       "75%      1.448556e+05\n",
       "max      4.367380e+07\n",
       "Name: newbalanceOrig, dtype: float64"
      ]
     },
     "execution_count": 92,
     "metadata": {},
     "output_type": "execute_result"
    }
   ],
   "source": [
    "df.describe(include= None).newbalanceOrig"
   ]
  },
  {
   "cell_type": "code",
   "execution_count": 93,
   "metadata": {
    "collapsed": false
   },
   "outputs": [
    {
     "data": {
      "text/plain": [
       "count    6.690000e+02\n",
       "mean     1.637103e+05\n",
       "std      1.938302e+06\n",
       "min      0.000000e+00\n",
       "25%      0.000000e+00\n",
       "50%      0.000000e+00\n",
       "75%      0.000000e+00\n",
       "max      4.039905e+07\n",
       "Name: newbalanceOrig, dtype: float64"
      ]
     },
     "execution_count": 93,
     "metadata": {},
     "output_type": "execute_result"
    }
   ],
   "source": [
    "dfraud.describe(include= None).newbalanceOrig"
   ]
  },
  {
   "cell_type": "code",
   "execution_count": 94,
   "metadata": {
    "collapsed": false
   },
   "outputs": [
    {
     "data": {
      "image/png": "[encoded data removed]",
      "text/plain": [
       "<matplotlib.figure.Figure at 0x11ee7b550>"
      ]
     },
     "metadata": {},
     "output_type": "display_data"
    }
   ],
   "source": [
    "newbalanceOrig = np.log1p(df.newbalanceOrig).plot.hist(label = 'Not Fraud', alpha = 0.8, \n",
    "                            bins = 20, normed = True)\n",
    "fnewbalanceOrig = np.log1p(dfraud.newbalanceOrig).plot.hist(label = 'Fraud', alpha = 0.5, bins = 20, normed = True) \n",
    "\n",
    "newbalanceOrig.legend();\n",
    "fnewbalanceOrig.legend();"
   ]
  },
  {
   "cell_type": "markdown",
   "metadata": {},
   "source": [
    "Wow! For the isFraud cases, it looks like the updated balance from the original account is (nearly) always 0!"
   ]
  },
  {
   "cell_type": "code",
   "execution_count": 95,
   "metadata": {
    "collapsed": false
   },
   "outputs": [
    {
     "data": {
      "text/plain": [
       "count    5.090090e+05\n",
       "mean     1.097301e+06\n",
       "std      3.392718e+06\n",
       "min      0.000000e+00\n",
       "25%      0.000000e+00\n",
       "50%      1.294440e+05\n",
       "75%      9.375382e+05\n",
       "max      2.511150e+08\n",
       "Name: oldbalanceDest, dtype: float64"
      ]
     },
     "execution_count": 95,
     "metadata": {},
     "output_type": "execute_result"
    }
   ],
   "source": [
    "df.describe(include= None).oldbalanceDest"
   ]
  },
  {
   "cell_type": "code",
   "execution_count": 96,
   "metadata": {
    "collapsed": false
   },
   "outputs": [
    {
     "data": {
      "text/plain": [
       "count    6.690000e+02\n",
       "mean     6.201907e+05\n",
       "std      2.015292e+06\n",
       "min      0.000000e+00\n",
       "25%      0.000000e+00\n",
       "50%      0.000000e+00\n",
       "75%      1.883258e+05\n",
       "max      2.429635e+07\n",
       "Name: oldbalanceDest, dtype: float64"
      ]
     },
     "execution_count": 96,
     "metadata": {},
     "output_type": "execute_result"
    }
   ],
   "source": [
    "dfraud.describe(include= None).oldbalanceDest"
   ]
  },
  {
   "cell_type": "code",
   "execution_count": 100,
   "metadata": {
    "collapsed": false
   },
   "outputs": [
    {
     "data": {
      "image/png": "[encoded data removed]",
      "text/plain": [
       "<matplotlib.figure.Figure at 0x11696f048>"
      ]
     },
     "metadata": {},
     "output_type": "display_data"
    }
   ],
   "source": [
    "oldbalanceDest = np.log1p(df.oldbalanceDest).plot.hist(label = 'Not Fraud', alpha = 0.8, \n",
    "                            range = (np.log1p(df.oldbalanceDest).min(), np.log1p(df.oldbalanceDest).max()),\n",
    "                            bins = 20, normed = True)\n",
    "foldbalanceDest = np.log1p(dfraud.oldbalanceDest).plot.hist(label = 'Fraud', alpha = 0.5, \n",
    "                            range = (np.log1p(df.oldbalanceDest).min(), np.log1p(df.oldbalanceDest).max()),\n",
    "                            bins = 20, normed = True) \n",
    "\n",
    "oldbalanceDest.legend();\n",
    "foldbalanceDest.legend();"
   ]
  },
  {
   "cell_type": "code",
   "execution_count": 102,
   "metadata": {
    "collapsed": false
   },
   "outputs": [
    {
     "data": {
      "text/plain": [
       "count    5.090090e+05\n",
       "mean     1.219353e+06\n",
       "std      3.651259e+06\n",
       "min      0.000000e+00\n",
       "25%      0.000000e+00\n",
       "50%      2.121075e+05\n",
       "75%      1.106533e+06\n",
       "max      2.506381e+08\n",
       "Name: newbalanceDest, dtype: float64"
      ]
     },
     "execution_count": 102,
     "metadata": {},
     "output_type": "execute_result"
    }
   ],
   "source": [
    "df.describe(include= None).newbalanceDest"
   ]
  },
  {
   "cell_type": "code",
   "execution_count": 103,
   "metadata": {
    "collapsed": false
   },
   "outputs": [
    {
     "data": {
      "text/plain": [
       "count    6.690000e+02\n",
       "mean     1.403334e+06\n",
       "std      2.918224e+06\n",
       "min      0.000000e+00\n",
       "25%      0.000000e+00\n",
       "50%      1.087290e+04\n",
       "75%      1.183814e+06\n",
       "max      2.529446e+07\n",
       "Name: newbalanceDest, dtype: float64"
      ]
     },
     "execution_count": 103,
     "metadata": {},
     "output_type": "execute_result"
    }
   ],
   "source": [
    "dfraud.describe(include= None).newbalanceDest"
   ]
  },
  {
   "cell_type": "code",
   "execution_count": 101,
   "metadata": {
    "collapsed": false
   },
   "outputs": [
    {
     "data": {
      "image/png": "[encoded data removed]",
      "text/plain": [
       "<matplotlib.figure.Figure at 0x11b4de588>"
      ]
     },
     "metadata": {},
     "output_type": "display_data"
    }
   ],
   "source": [
    "newbalanceDest = np.log1p(df.newbalanceDest).plot.hist(label = 'Not Fraud', alpha = 0.8, \n",
    "                            range = (np.log1p(df.newbalanceDest).min(), np.log1p(df.newbalanceDest).max()),\n",
    "                            bins = 20, normed = True)\n",
    "fnewbalanceDest = np.log1p(dfraud.newbalanceDest).plot.hist(label = 'Fraud', alpha = 0.5, \n",
    "                            range = (np.log1p(df.newbalanceDest).min(), np.log1p(df.newbalanceDest).max()),\n",
    "                            bins = 20, normed = True) \n",
    "\n",
    "newbalanceDest.legend();\n",
    "fnewbalanceDest.legend();"
   ]
  },
  {
   "cell_type": "markdown",
   "metadata": {},
   "source": [
    "## What do we have left to analyze? Or, I am sick of scrolling."
   ]
  },
  {
   "cell_type": "code",
   "execution_count": 105,
   "metadata": {
    "collapsed": false
   },
   "outputs": [
    {
     "name": "stdout",
     "output_type": "stream",
     "text": [
      "<class 'pandas.core.frame.DataFrame'>\n",
      "RangeIndex: 509009 entries, 0 to 509008\n",
      "Data columns (total 11 columns):\n",
      "step              509009 non-null int64\n",
      "type              509009 non-null object\n",
      "amount            509009 non-null float64\n",
      "nameOrig          509009 non-null object\n",
      "oldbalanceOrg     509009 non-null float64\n",
      "newbalanceOrig    509009 non-null float64\n",
      "nameDest          509009 non-null object\n",
      "oldbalanceDest    509009 non-null float64\n",
      "newbalanceDest    509009 non-null float64\n",
      "isFraud           509009 non-null int64\n",
      "id                509009 non-null int64\n",
      "dtypes: float64(5), int64(3), object(3)\n",
      "memory usage: 42.7+ MB\n"
     ]
    }
   ],
   "source": [
    "df.info()"
   ]
  },
  {
   "cell_type": "markdown",
   "metadata": {
    "collapsed": false
   },
   "source": [
    "So far, we've worked through step, type, amount, oldbalanceOrg, newbalanceOrig, oldbalanceDest and newbalanceDest. All that's left are nameOrig and nameDest. Given that these are basically unique account numbers, there may not be much to glean. But wait! We can distinguish what type of account (merchant or consumer) by the leading character."
   ]
  },
  {
   "cell_type": "code",
   "execution_count": 106,
   "metadata": {
    "collapsed": false
   },
   "outputs": [],
   "source": [
    "# Let's create a lambda function and a new variable to analyze the account types\n",
    "df['nameOrigCat'] = df.nameOrig.apply(lambda x: x[0])"
   ]
  },
  {
   "cell_type": "code",
   "execution_count": 108,
   "metadata": {
    "collapsed": false
   },
   "outputs": [
    {
     "data": {
      "text/plain": [
       "C    509009\n",
       "Name: nameOrigCat, dtype: int64"
      ]
     },
     "execution_count": 108,
     "metadata": {},
     "output_type": "execute_result"
    }
   ],
   "source": [
    "df.nameOrigCat.value_counts()"
   ]
  },
  {
   "cell_type": "markdown",
   "metadata": {
    "collapsed": true
   },
   "source": [
    "Hmm, looks like all transactions started from consumer accounts regardless of isFraud status. Let's try namedest:"
   ]
  },
  {
   "cell_type": "code",
   "execution_count": 109,
   "metadata": {
    "collapsed": true
   },
   "outputs": [],
   "source": [
    "df['nameDestCat'] = df.nameDest.apply(lambda x: x[0])"
   ]
  },
  {
   "cell_type": "code",
   "execution_count": 111,
   "metadata": {
    "collapsed": false
   },
   "outputs": [
    {
     "data": {
      "text/plain": [
       "C    336292\n",
       "M    172717\n",
       "Name: nameDestCat, dtype: int64"
      ]
     },
     "execution_count": 111,
     "metadata": {},
     "output_type": "execute_result"
    }
   ],
   "source": [
    "df.nameDestCat.value_counts()"
   ]
  },
  {
   "cell_type": "markdown",
   "metadata": {
    "collapsed": false
   },
   "source": [
    "Huzzah! Looks like there's some distinction there. "
   ]
  },
  {
   "cell_type": "code",
   "execution_count": 114,
   "metadata": {
    "collapsed": false
   },
   "outputs": [
    {
     "data": {
      "text/html": [
       "<div>\n",
       "<table border=\"1\" class=\"dataframe\">\n",
       "  <thead>\n",
       "    <tr style=\"text-align: right;\">\n",
       "      <th>nameDestCat</th>\n",
       "      <th>C</th>\n",
       "      <th>M</th>\n",
       "    </tr>\n",
       "    <tr>\n",
       "      <th>isFraud</th>\n",
       "      <th></th>\n",
       "      <th></th>\n",
       "    </tr>\n",
       "  </thead>\n",
       "  <tbody>\n",
       "    <tr>\n",
       "      <th>0</th>\n",
       "      <td>335623</td>\n",
       "      <td>172717</td>\n",
       "    </tr>\n",
       "    <tr>\n",
       "      <th>1</th>\n",
       "      <td>669</td>\n",
       "      <td>0</td>\n",
       "    </tr>\n",
       "  </tbody>\n",
       "</table>\n",
       "</div>"
      ],
      "text/plain": [
       "nameDestCat       C       M\n",
       "isFraud                    \n",
       "0            335623  172717\n",
       "1               669       0"
      ]
     },
     "execution_count": 114,
     "metadata": {},
     "output_type": "execute_result"
    }
   ],
   "source": [
    "pd.crosstab(df.isFraud, df.nameDestCat) # plot the crosstab for survival by sex"
   ]
  },
  {
   "cell_type": "markdown",
   "metadata": {
    "collapsed": false
   },
   "source": [
    "Well, not as informative as I'd hoped, but at least it's good to know that no fraudulent transactions went to merchants!"
   ]
  }
 ],
 "metadata": {
  "anaconda-cloud": {},
  "kernelspec": {
   "display_name": "Python [default]",
   "language": "python",
   "name": "python3"
  },
  "language_info": {
   "codemirror_mode": {
    "name": "ipython",
    "version": 3
   },
   "file_extension": ".py",
   "mimetype": "text/x-python",
   "name": "python",
   "nbconvert_exporter": "python",
   "pygments_lexer": "ipython3",
   "version": "3.5.2"
  }
 },
 "nbformat": 4,
 "nbformat_minor": 2
}
