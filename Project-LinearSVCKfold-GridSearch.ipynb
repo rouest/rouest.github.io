{
 "cells": [
  {
   "cell_type": "markdown",
   "metadata": {},
   "source": [
    "# Building the Model!\n",
    "\n",
    "We're going to start by importing all libraries needed for the creation of the model. Refer to the requrements.txt file in the repository for the complete list and all version info. "
   ]
  },
  {
   "cell_type": "code",
   "execution_count": 1,
   "metadata": {
    "collapsed": false,
    "scrolled": true
   },
   "outputs": [],
   "source": [
    "from matplotlib import style\n",
    "import pandas as pd\n",
    "import numpy as np\n",
    "%matplotlib inline\n",
    "style.use(\"ggplot\")\n",
    "from sklearn.svm import SVC\n",
    "from sklearn.svm import LinearSVC\n",
    "from sklearn.cluster import KMeans\n",
    "from sklearn.model_selection import cross_val_score\n",
    "from sklearn.metrics import mean_squared_error as mse\n",
    "from sklearn.model_selection import KFold\n",
    "from sklearn.model_selection import GridSearchCV, RandomizedSearchCV"
   ]
  },
  {
   "cell_type": "code",
   "execution_count": 2,
   "metadata": {
    "collapsed": false
   },
   "outputs": [
    {
     "data": {
      "text/html": [
       "<div>\n",
       "<table border=\"1\" class=\"dataframe\">\n",
       "  <thead>\n",
       "    <tr style=\"text-align: right;\">\n",
       "      <th></th>\n",
       "      <th>step</th>\n",
       "      <th>type</th>\n",
       "      <th>amount</th>\n",
       "      <th>nameOrig</th>\n",
       "      <th>oldbalanceOrg</th>\n",
       "      <th>newbalanceOrig</th>\n",
       "      <th>nameDest</th>\n",
       "      <th>oldbalanceDest</th>\n",
       "      <th>newbalanceDest</th>\n",
       "      <th>isFraud</th>\n",
       "      <th>id</th>\n",
       "    </tr>\n",
       "  </thead>\n",
       "  <tbody>\n",
       "    <tr>\n",
       "      <th>0</th>\n",
       "      <td>303</td>\n",
       "      <td>CASH_IN</td>\n",
       "      <td>185164.71</td>\n",
       "      <td>C1499985475</td>\n",
       "      <td>3075480.01</td>\n",
       "      <td>3260644.72</td>\n",
       "      <td>C1771727877</td>\n",
       "      <td>881991.88</td>\n",
       "      <td>696827.18</td>\n",
       "      <td>0</td>\n",
       "      <td>540576</td>\n",
       "    </tr>\n",
       "    <tr>\n",
       "      <th>1</th>\n",
       "      <td>356</td>\n",
       "      <td>CASH_IN</td>\n",
       "      <td>79083.65</td>\n",
       "      <td>C108745493</td>\n",
       "      <td>5489716.32</td>\n",
       "      <td>5568799.97</td>\n",
       "      <td>C1167754301</td>\n",
       "      <td>153219.51</td>\n",
       "      <td>74135.86</td>\n",
       "      <td>0</td>\n",
       "      <td>120014</td>\n",
       "    </tr>\n",
       "    <tr>\n",
       "      <th>2</th>\n",
       "      <td>10</td>\n",
       "      <td>TRANSFER</td>\n",
       "      <td>2336832.78</td>\n",
       "      <td>C975415534</td>\n",
       "      <td>147958.78</td>\n",
       "      <td>0.00</td>\n",
       "      <td>C718985478</td>\n",
       "      <td>5069347.06</td>\n",
       "      <td>7307970.46</td>\n",
       "      <td>0</td>\n",
       "      <td>623141</td>\n",
       "    </tr>\n",
       "    <tr>\n",
       "      <th>3</th>\n",
       "      <td>238</td>\n",
       "      <td>TRANSFER</td>\n",
       "      <td>228517.91</td>\n",
       "      <td>C1968162743</td>\n",
       "      <td>0.00</td>\n",
       "      <td>0.00</td>\n",
       "      <td>C1544755390</td>\n",
       "      <td>18768561.09</td>\n",
       "      <td>18997079.00</td>\n",
       "      <td>0</td>\n",
       "      <td>547737</td>\n",
       "    </tr>\n",
       "    <tr>\n",
       "      <th>4</th>\n",
       "      <td>133</td>\n",
       "      <td>CASH_IN</td>\n",
       "      <td>180179.73</td>\n",
       "      <td>C467196066</td>\n",
       "      <td>21448.00</td>\n",
       "      <td>201627.73</td>\n",
       "      <td>C1386847873</td>\n",
       "      <td>7160295.13</td>\n",
       "      <td>6980115.40</td>\n",
       "      <td>0</td>\n",
       "      <td>569291</td>\n",
       "    </tr>\n",
       "  </tbody>\n",
       "</table>\n",
       "</div>"
      ],
      "text/plain": [
       "   step      type      amount     nameOrig  oldbalanceOrg  newbalanceOrig  \\\n",
       "0   303   CASH_IN   185164.71  C1499985475     3075480.01      3260644.72   \n",
       "1   356   CASH_IN    79083.65   C108745493     5489716.32      5568799.97   \n",
       "2    10  TRANSFER  2336832.78   C975415534      147958.78            0.00   \n",
       "3   238  TRANSFER   228517.91  C1968162743           0.00            0.00   \n",
       "4   133   CASH_IN   180179.73   C467196066       21448.00       201627.73   \n",
       "\n",
       "      nameDest  oldbalanceDest  newbalanceDest  isFraud      id  \n",
       "0  C1771727877       881991.88       696827.18        0  540576  \n",
       "1  C1167754301       153219.51        74135.86        0  120014  \n",
       "2   C718985478      5069347.06      7307970.46        0  623141  \n",
       "3  C1544755390     18768561.09     18997079.00        0  547737  \n",
       "4  C1386847873      7160295.13      6980115.40        0  569291  "
      ]
     },
     "execution_count": 2,
     "metadata": {},
     "output_type": "execute_result"
    }
   ],
   "source": [
    "# Now let's read in the training set and take a look. \n",
    "df = pd.read_csv('~/rouest/project-submissions/data/train.csv')\n",
    "df.head()"
   ]
  },
  {
   "cell_type": "markdown",
   "metadata": {},
   "source": [
    "### Now it's time to start building our feature space based on the EDA that we did."
   ]
  },
  {
   "cell_type": "code",
   "execution_count": 3,
   "metadata": {
    "collapsed": false
   },
   "outputs": [],
   "source": [
    "# Even though no isFraud cases were to merchants, let's still break them out as a feature.\n",
    "df['nameDestCat'] = df.nameDest.apply(lambda x: x[0])"
   ]
  },
  {
   "cell_type": "code",
   "execution_count": 4,
   "metadata": {
    "collapsed": false
   },
   "outputs": [],
   "source": [
    "# Now we need to select the features (and target) that we are using\n",
    "dfalt = df.ix[:, [0, 1, 2, 4, 5, 7, 8, 9, 11]]"
   ]
  },
  {
   "cell_type": "code",
   "execution_count": 5,
   "metadata": {
    "collapsed": false
   },
   "outputs": [
    {
     "data": {
      "text/html": [
       "<div>\n",
       "<table border=\"1\" class=\"dataframe\">\n",
       "  <thead>\n",
       "    <tr style=\"text-align: right;\">\n",
       "      <th></th>\n",
       "      <th>step</th>\n",
       "      <th>type</th>\n",
       "      <th>amount</th>\n",
       "      <th>oldbalanceOrg</th>\n",
       "      <th>newbalanceOrig</th>\n",
       "      <th>oldbalanceDest</th>\n",
       "      <th>newbalanceDest</th>\n",
       "      <th>isFraud</th>\n",
       "      <th>nameDestCat</th>\n",
       "    </tr>\n",
       "  </thead>\n",
       "  <tbody>\n",
       "    <tr>\n",
       "      <th>0</th>\n",
       "      <td>303</td>\n",
       "      <td>CASH_IN</td>\n",
       "      <td>185164.71</td>\n",
       "      <td>3075480.01</td>\n",
       "      <td>3260644.72</td>\n",
       "      <td>881991.88</td>\n",
       "      <td>696827.18</td>\n",
       "      <td>0</td>\n",
       "      <td>C</td>\n",
       "    </tr>\n",
       "    <tr>\n",
       "      <th>1</th>\n",
       "      <td>356</td>\n",
       "      <td>CASH_IN</td>\n",
       "      <td>79083.65</td>\n",
       "      <td>5489716.32</td>\n",
       "      <td>5568799.97</td>\n",
       "      <td>153219.51</td>\n",
       "      <td>74135.86</td>\n",
       "      <td>0</td>\n",
       "      <td>C</td>\n",
       "    </tr>\n",
       "    <tr>\n",
       "      <th>2</th>\n",
       "      <td>10</td>\n",
       "      <td>TRANSFER</td>\n",
       "      <td>2336832.78</td>\n",
       "      <td>147958.78</td>\n",
       "      <td>0.00</td>\n",
       "      <td>5069347.06</td>\n",
       "      <td>7307970.46</td>\n",
       "      <td>0</td>\n",
       "      <td>C</td>\n",
       "    </tr>\n",
       "    <tr>\n",
       "      <th>3</th>\n",
       "      <td>238</td>\n",
       "      <td>TRANSFER</td>\n",
       "      <td>228517.91</td>\n",
       "      <td>0.00</td>\n",
       "      <td>0.00</td>\n",
       "      <td>18768561.09</td>\n",
       "      <td>18997079.00</td>\n",
       "      <td>0</td>\n",
       "      <td>C</td>\n",
       "    </tr>\n",
       "    <tr>\n",
       "      <th>4</th>\n",
       "      <td>133</td>\n",
       "      <td>CASH_IN</td>\n",
       "      <td>180179.73</td>\n",
       "      <td>21448.00</td>\n",
       "      <td>201627.73</td>\n",
       "      <td>7160295.13</td>\n",
       "      <td>6980115.40</td>\n",
       "      <td>0</td>\n",
       "      <td>C</td>\n",
       "    </tr>\n",
       "  </tbody>\n",
       "</table>\n",
       "</div>"
      ],
      "text/plain": [
       "   step      type      amount  oldbalanceOrg  newbalanceOrig  oldbalanceDest  \\\n",
       "0   303   CASH_IN   185164.71     3075480.01      3260644.72       881991.88   \n",
       "1   356   CASH_IN    79083.65     5489716.32      5568799.97       153219.51   \n",
       "2    10  TRANSFER  2336832.78      147958.78            0.00      5069347.06   \n",
       "3   238  TRANSFER   228517.91           0.00            0.00     18768561.09   \n",
       "4   133   CASH_IN   180179.73       21448.00       201627.73      7160295.13   \n",
       "\n",
       "   newbalanceDest  isFraud nameDestCat  \n",
       "0       696827.18        0           C  \n",
       "1        74135.86        0           C  \n",
       "2      7307970.46        0           C  \n",
       "3     18997079.00        0           C  \n",
       "4      6980115.40        0           C  "
      ]
     },
     "execution_count": 5,
     "metadata": {},
     "output_type": "execute_result"
    }
   ],
   "source": [
    "# And take a look . . .\n",
    "dfalt.head()"
   ]
  },
  {
   "cell_type": "markdown",
   "metadata": {},
   "source": [
    "### As our EDA indicated, may of our float variables are heavily skewed.\n",
    "\n",
    "Let's take the change to transform them with numpy's log1p to approximate a more normal distrbution (which will prove helpful in our support vector classification later) while retaining the 0 values."
   ]
  },
  {
   "cell_type": "code",
   "execution_count": 6,
   "metadata": {
    "collapsed": false
   },
   "outputs": [
    {
     "name": "stderr",
     "output_type": "stream",
     "text": [
      "//anaconda/lib/python3.5/site-packages/pandas/core/generic.py:2701: SettingWithCopyWarning: \n",
      "A value is trying to be set on a copy of a slice from a DataFrame.\n",
      "Try using .loc[row_indexer,col_indexer] = value instead\n",
      "\n",
      "See the caveats in the documentation: http://pandas.pydata.org/pandas-docs/stable/indexing.html#indexing-view-versus-copy\n",
      "  self[name] = value\n"
     ]
    }
   ],
   "source": [
    "dfalt.amount = np.log1p(dfalt.amount)\n",
    "dfalt.oldbalanceOrg = np.log1p(dfalt.oldbalanceOrg)\n",
    "dfalt.newbalanceOrig = np.log1p(dfalt.newbalanceOrig)\n",
    "dfalt.oldbalanceDest = np.log1p(dfalt.oldbalanceDest)\n",
    "dfalt.newbalanceDest = np.log1p(dfalt.newbalanceDest)"
   ]
  },
  {
   "cell_type": "code",
   "execution_count": 7,
   "metadata": {
    "collapsed": false
   },
   "outputs": [],
   "source": [
    "# Now we can dummy out the type and nameDestCat features \n",
    "dfdum = pd.get_dummies(dfalt, prefix='is')"
   ]
  },
  {
   "cell_type": "code",
   "execution_count": 8,
   "metadata": {
    "collapsed": false
   },
   "outputs": [
    {
     "data": {
      "text/html": [
       "<div>\n",
       "<table border=\"1\" class=\"dataframe\">\n",
       "  <thead>\n",
       "    <tr style=\"text-align: right;\">\n",
       "      <th></th>\n",
       "      <th>step</th>\n",
       "      <th>amount</th>\n",
       "      <th>oldbalanceOrg</th>\n",
       "      <th>newbalanceOrig</th>\n",
       "      <th>oldbalanceDest</th>\n",
       "      <th>newbalanceDest</th>\n",
       "      <th>isFraud</th>\n",
       "      <th>is_CASH_IN</th>\n",
       "      <th>is_CASH_OUT</th>\n",
       "      <th>is_DEBIT</th>\n",
       "      <th>is_PAYMENT</th>\n",
       "      <th>is_TRANSFER</th>\n",
       "      <th>is_C</th>\n",
       "      <th>is_M</th>\n",
       "    </tr>\n",
       "  </thead>\n",
       "  <tbody>\n",
       "    <tr>\n",
       "      <th>0</th>\n",
       "      <td>303</td>\n",
       "      <td>12.129006</td>\n",
       "      <td>14.938972</td>\n",
       "      <td>14.997436</td>\n",
       "      <td>13.689939</td>\n",
       "      <td>13.454294</td>\n",
       "      <td>0</td>\n",
       "      <td>1.0</td>\n",
       "      <td>0.0</td>\n",
       "      <td>0.0</td>\n",
       "      <td>0.0</td>\n",
       "      <td>0.0</td>\n",
       "      <td>1.0</td>\n",
       "      <td>0.0</td>\n",
       "    </tr>\n",
       "    <tr>\n",
       "      <th>1</th>\n",
       "      <td>356</td>\n",
       "      <td>11.278274</td>\n",
       "      <td>15.518387</td>\n",
       "      <td>15.532690</td>\n",
       "      <td>11.939633</td>\n",
       "      <td>11.213668</td>\n",
       "      <td>0</td>\n",
       "      <td>1.0</td>\n",
       "      <td>0.0</td>\n",
       "      <td>0.0</td>\n",
       "      <td>0.0</td>\n",
       "      <td>0.0</td>\n",
       "      <td>1.0</td>\n",
       "      <td>0.0</td>\n",
       "    </tr>\n",
       "    <tr>\n",
       "      <th>2</th>\n",
       "      <td>10</td>\n",
       "      <td>14.664307</td>\n",
       "      <td>11.904696</td>\n",
       "      <td>0.000000</td>\n",
       "      <td>15.438723</td>\n",
       "      <td>15.804476</td>\n",
       "      <td>0</td>\n",
       "      <td>0.0</td>\n",
       "      <td>0.0</td>\n",
       "      <td>0.0</td>\n",
       "      <td>0.0</td>\n",
       "      <td>1.0</td>\n",
       "      <td>1.0</td>\n",
       "      <td>0.0</td>\n",
       "    </tr>\n",
       "    <tr>\n",
       "      <th>3</th>\n",
       "      <td>238</td>\n",
       "      <td>12.339374</td>\n",
       "      <td>0.000000</td>\n",
       "      <td>0.000000</td>\n",
       "      <td>16.747694</td>\n",
       "      <td>16.759796</td>\n",
       "      <td>0</td>\n",
       "      <td>0.0</td>\n",
       "      <td>0.0</td>\n",
       "      <td>0.0</td>\n",
       "      <td>0.0</td>\n",
       "      <td>1.0</td>\n",
       "      <td>1.0</td>\n",
       "      <td>0.0</td>\n",
       "    </tr>\n",
       "    <tr>\n",
       "      <th>4</th>\n",
       "      <td>133</td>\n",
       "      <td>12.101716</td>\n",
       "      <td>9.973433</td>\n",
       "      <td>12.214183</td>\n",
       "      <td>15.784062</td>\n",
       "      <td>15.758576</td>\n",
       "      <td>0</td>\n",
       "      <td>1.0</td>\n",
       "      <td>0.0</td>\n",
       "      <td>0.0</td>\n",
       "      <td>0.0</td>\n",
       "      <td>0.0</td>\n",
       "      <td>1.0</td>\n",
       "      <td>0.0</td>\n",
       "    </tr>\n",
       "  </tbody>\n",
       "</table>\n",
       "</div>"
      ],
      "text/plain": [
       "   step     amount  oldbalanceOrg  newbalanceOrig  oldbalanceDest  \\\n",
       "0   303  12.129006      14.938972       14.997436       13.689939   \n",
       "1   356  11.278274      15.518387       15.532690       11.939633   \n",
       "2    10  14.664307      11.904696        0.000000       15.438723   \n",
       "3   238  12.339374       0.000000        0.000000       16.747694   \n",
       "4   133  12.101716       9.973433       12.214183       15.784062   \n",
       "\n",
       "   newbalanceDest  isFraud  is_CASH_IN  is_CASH_OUT  is_DEBIT  is_PAYMENT  \\\n",
       "0       13.454294        0         1.0          0.0       0.0         0.0   \n",
       "1       11.213668        0         1.0          0.0       0.0         0.0   \n",
       "2       15.804476        0         0.0          0.0       0.0         0.0   \n",
       "3       16.759796        0         0.0          0.0       0.0         0.0   \n",
       "4       15.758576        0         1.0          0.0       0.0         0.0   \n",
       "\n",
       "   is_TRANSFER  is_C  is_M  \n",
       "0          0.0   1.0   0.0  \n",
       "1          0.0   1.0   0.0  \n",
       "2          1.0   1.0   0.0  \n",
       "3          1.0   1.0   0.0  \n",
       "4          0.0   1.0   0.0  "
      ]
     },
     "execution_count": 8,
     "metadata": {},
     "output_type": "execute_result"
    }
   ],
   "source": [
    "dfdum.head()"
   ]
  },
  {
   "cell_type": "code",
   "execution_count": 9,
   "metadata": {
    "collapsed": true
   },
   "outputs": [],
   "source": [
    "# Let's create our features list so that we can create some clusters for our dataframe\n",
    "features = list(set(dfdum.columns) - {'isFraud'})"
   ]
  },
  {
   "cell_type": "code",
   "execution_count": 10,
   "metadata": {
    "collapsed": false
   },
   "outputs": [
    {
     "data": {
      "text/plain": [
       "KMeans(algorithm='auto', copy_x=True, init='k-means++', max_iter=300,\n",
       "    n_clusters=25, n_init=10, n_jobs=-1, precompute_distances='auto',\n",
       "    random_state=0, tol=0.0001, verbose=0)"
      ]
     },
     "execution_count": 10,
     "metadata": {},
     "output_type": "execute_result"
    }
   ],
   "source": [
    "kmeans = KMeans(n_clusters=25, random_state=0, n_jobs=-1)\n",
    "kmeans.fit(dfdum[features])"
   ]
  },
  {
   "cell_type": "code",
   "execution_count": 11,
   "metadata": {
    "collapsed": true
   },
   "outputs": [],
   "source": [
    "# And then apply them to the dataset\n",
    "predictedLabels = kmeans.predict(dfdum[features])\n",
    "dfdum['predictedCluster'] = predictedLabels\n",
    "dfdum['predictedCluster'] = dfdum.predictedCluster.astype('object')"
   ]
  },
  {
   "cell_type": "code",
   "execution_count": 12,
   "metadata": {
    "collapsed": false
   },
   "outputs": [
    {
     "data": {
      "text/html": [
       "<div>\n",
       "<table border=\"1\" class=\"dataframe\">\n",
       "  <thead>\n",
       "    <tr style=\"text-align: right;\">\n",
       "      <th></th>\n",
       "      <th>step</th>\n",
       "      <th>amount</th>\n",
       "      <th>oldbalanceOrg</th>\n",
       "      <th>newbalanceOrig</th>\n",
       "      <th>oldbalanceDest</th>\n",
       "      <th>newbalanceDest</th>\n",
       "      <th>isFraud</th>\n",
       "      <th>is_CASH_IN</th>\n",
       "      <th>is_CASH_OUT</th>\n",
       "      <th>is_DEBIT</th>\n",
       "      <th>is_PAYMENT</th>\n",
       "      <th>is_TRANSFER</th>\n",
       "      <th>is_C</th>\n",
       "      <th>is_M</th>\n",
       "      <th>predictedCluster</th>\n",
       "    </tr>\n",
       "  </thead>\n",
       "  <tbody>\n",
       "    <tr>\n",
       "      <th>0</th>\n",
       "      <td>303</td>\n",
       "      <td>12.129006</td>\n",
       "      <td>14.938972</td>\n",
       "      <td>14.997436</td>\n",
       "      <td>13.689939</td>\n",
       "      <td>13.454294</td>\n",
       "      <td>0</td>\n",
       "      <td>1.0</td>\n",
       "      <td>0.0</td>\n",
       "      <td>0.0</td>\n",
       "      <td>0.0</td>\n",
       "      <td>0.0</td>\n",
       "      <td>1.0</td>\n",
       "      <td>0.0</td>\n",
       "      <td>16</td>\n",
       "    </tr>\n",
       "    <tr>\n",
       "      <th>1</th>\n",
       "      <td>356</td>\n",
       "      <td>11.278274</td>\n",
       "      <td>15.518387</td>\n",
       "      <td>15.532690</td>\n",
       "      <td>11.939633</td>\n",
       "      <td>11.213668</td>\n",
       "      <td>0</td>\n",
       "      <td>1.0</td>\n",
       "      <td>0.0</td>\n",
       "      <td>0.0</td>\n",
       "      <td>0.0</td>\n",
       "      <td>0.0</td>\n",
       "      <td>1.0</td>\n",
       "      <td>0.0</td>\n",
       "      <td>19</td>\n",
       "    </tr>\n",
       "    <tr>\n",
       "      <th>2</th>\n",
       "      <td>10</td>\n",
       "      <td>14.664307</td>\n",
       "      <td>11.904696</td>\n",
       "      <td>0.000000</td>\n",
       "      <td>15.438723</td>\n",
       "      <td>15.804476</td>\n",
       "      <td>0</td>\n",
       "      <td>0.0</td>\n",
       "      <td>0.0</td>\n",
       "      <td>0.0</td>\n",
       "      <td>0.0</td>\n",
       "      <td>1.0</td>\n",
       "      <td>1.0</td>\n",
       "      <td>0.0</td>\n",
       "      <td>2</td>\n",
       "    </tr>\n",
       "    <tr>\n",
       "      <th>3</th>\n",
       "      <td>238</td>\n",
       "      <td>12.339374</td>\n",
       "      <td>0.000000</td>\n",
       "      <td>0.000000</td>\n",
       "      <td>16.747694</td>\n",
       "      <td>16.759796</td>\n",
       "      <td>0</td>\n",
       "      <td>0.0</td>\n",
       "      <td>0.0</td>\n",
       "      <td>0.0</td>\n",
       "      <td>0.0</td>\n",
       "      <td>1.0</td>\n",
       "      <td>1.0</td>\n",
       "      <td>0.0</td>\n",
       "      <td>0</td>\n",
       "    </tr>\n",
       "    <tr>\n",
       "      <th>4</th>\n",
       "      <td>133</td>\n",
       "      <td>12.101716</td>\n",
       "      <td>9.973433</td>\n",
       "      <td>12.214183</td>\n",
       "      <td>15.784062</td>\n",
       "      <td>15.758576</td>\n",
       "      <td>0</td>\n",
       "      <td>1.0</td>\n",
       "      <td>0.0</td>\n",
       "      <td>0.0</td>\n",
       "      <td>0.0</td>\n",
       "      <td>0.0</td>\n",
       "      <td>1.0</td>\n",
       "      <td>0.0</td>\n",
       "      <td>10</td>\n",
       "    </tr>\n",
       "  </tbody>\n",
       "</table>\n",
       "</div>"
      ],
      "text/plain": [
       "   step     amount  oldbalanceOrg  newbalanceOrig  oldbalanceDest  \\\n",
       "0   303  12.129006      14.938972       14.997436       13.689939   \n",
       "1   356  11.278274      15.518387       15.532690       11.939633   \n",
       "2    10  14.664307      11.904696        0.000000       15.438723   \n",
       "3   238  12.339374       0.000000        0.000000       16.747694   \n",
       "4   133  12.101716       9.973433       12.214183       15.784062   \n",
       "\n",
       "   newbalanceDest  isFraud  is_CASH_IN  is_CASH_OUT  is_DEBIT  is_PAYMENT  \\\n",
       "0       13.454294        0         1.0          0.0       0.0         0.0   \n",
       "1       11.213668        0         1.0          0.0       0.0         0.0   \n",
       "2       15.804476        0         0.0          0.0       0.0         0.0   \n",
       "3       16.759796        0         0.0          0.0       0.0         0.0   \n",
       "4       15.758576        0         1.0          0.0       0.0         0.0   \n",
       "\n",
       "   is_TRANSFER  is_C  is_M predictedCluster  \n",
       "0          0.0   1.0   0.0               16  \n",
       "1          0.0   1.0   0.0               19  \n",
       "2          1.0   1.0   0.0                2  \n",
       "3          1.0   1.0   0.0                0  \n",
       "4          0.0   1.0   0.0               10  "
      ]
     },
     "execution_count": 12,
     "metadata": {},
     "output_type": "execute_result"
    }
   ],
   "source": [
    "# Let's take a look and then dummy it out again\n",
    "dfdum.head()"
   ]
  },
  {
   "cell_type": "code",
   "execution_count": 13,
   "metadata": {
    "collapsed": false
   },
   "outputs": [
    {
     "data": {
      "text/html": [
       "<div>\n",
       "<table border=\"1\" class=\"dataframe\">\n",
       "  <thead>\n",
       "    <tr style=\"text-align: right;\">\n",
       "      <th></th>\n",
       "      <th>step</th>\n",
       "      <th>amount</th>\n",
       "      <th>oldbalanceOrg</th>\n",
       "      <th>newbalanceOrig</th>\n",
       "      <th>oldbalanceDest</th>\n",
       "      <th>newbalanceDest</th>\n",
       "      <th>isFraud</th>\n",
       "      <th>is_CASH_IN</th>\n",
       "      <th>is_CASH_OUT</th>\n",
       "      <th>is_DEBIT</th>\n",
       "      <th>...</th>\n",
       "      <th>predictedCluster_15</th>\n",
       "      <th>predictedCluster_16</th>\n",
       "      <th>predictedCluster_17</th>\n",
       "      <th>predictedCluster_18</th>\n",
       "      <th>predictedCluster_19</th>\n",
       "      <th>predictedCluster_20</th>\n",
       "      <th>predictedCluster_21</th>\n",
       "      <th>predictedCluster_22</th>\n",
       "      <th>predictedCluster_23</th>\n",
       "      <th>predictedCluster_24</th>\n",
       "    </tr>\n",
       "  </thead>\n",
       "  <tbody>\n",
       "    <tr>\n",
       "      <th>0</th>\n",
       "      <td>303</td>\n",
       "      <td>12.129006</td>\n",
       "      <td>14.938972</td>\n",
       "      <td>14.997436</td>\n",
       "      <td>13.689939</td>\n",
       "      <td>13.454294</td>\n",
       "      <td>0</td>\n",
       "      <td>1.0</td>\n",
       "      <td>0.0</td>\n",
       "      <td>0.0</td>\n",
       "      <td>...</td>\n",
       "      <td>0.0</td>\n",
       "      <td>1.0</td>\n",
       "      <td>0.0</td>\n",
       "      <td>0.0</td>\n",
       "      <td>0.0</td>\n",
       "      <td>0.0</td>\n",
       "      <td>0.0</td>\n",
       "      <td>0.0</td>\n",
       "      <td>0.0</td>\n",
       "      <td>0.0</td>\n",
       "    </tr>\n",
       "    <tr>\n",
       "      <th>1</th>\n",
       "      <td>356</td>\n",
       "      <td>11.278274</td>\n",
       "      <td>15.518387</td>\n",
       "      <td>15.532690</td>\n",
       "      <td>11.939633</td>\n",
       "      <td>11.213668</td>\n",
       "      <td>0</td>\n",
       "      <td>1.0</td>\n",
       "      <td>0.0</td>\n",
       "      <td>0.0</td>\n",
       "      <td>...</td>\n",
       "      <td>0.0</td>\n",
       "      <td>0.0</td>\n",
       "      <td>0.0</td>\n",
       "      <td>0.0</td>\n",
       "      <td>1.0</td>\n",
       "      <td>0.0</td>\n",
       "      <td>0.0</td>\n",
       "      <td>0.0</td>\n",
       "      <td>0.0</td>\n",
       "      <td>0.0</td>\n",
       "    </tr>\n",
       "    <tr>\n",
       "      <th>2</th>\n",
       "      <td>10</td>\n",
       "      <td>14.664307</td>\n",
       "      <td>11.904696</td>\n",
       "      <td>0.000000</td>\n",
       "      <td>15.438723</td>\n",
       "      <td>15.804476</td>\n",
       "      <td>0</td>\n",
       "      <td>0.0</td>\n",
       "      <td>0.0</td>\n",
       "      <td>0.0</td>\n",
       "      <td>...</td>\n",
       "      <td>0.0</td>\n",
       "      <td>0.0</td>\n",
       "      <td>0.0</td>\n",
       "      <td>0.0</td>\n",
       "      <td>0.0</td>\n",
       "      <td>0.0</td>\n",
       "      <td>0.0</td>\n",
       "      <td>0.0</td>\n",
       "      <td>0.0</td>\n",
       "      <td>0.0</td>\n",
       "    </tr>\n",
       "    <tr>\n",
       "      <th>3</th>\n",
       "      <td>238</td>\n",
       "      <td>12.339374</td>\n",
       "      <td>0.000000</td>\n",
       "      <td>0.000000</td>\n",
       "      <td>16.747694</td>\n",
       "      <td>16.759796</td>\n",
       "      <td>0</td>\n",
       "      <td>0.0</td>\n",
       "      <td>0.0</td>\n",
       "      <td>0.0</td>\n",
       "      <td>...</td>\n",
       "      <td>0.0</td>\n",
       "      <td>0.0</td>\n",
       "      <td>0.0</td>\n",
       "      <td>0.0</td>\n",
       "      <td>0.0</td>\n",
       "      <td>0.0</td>\n",
       "      <td>0.0</td>\n",
       "      <td>0.0</td>\n",
       "      <td>0.0</td>\n",
       "      <td>0.0</td>\n",
       "    </tr>\n",
       "    <tr>\n",
       "      <th>4</th>\n",
       "      <td>133</td>\n",
       "      <td>12.101716</td>\n",
       "      <td>9.973433</td>\n",
       "      <td>12.214183</td>\n",
       "      <td>15.784062</td>\n",
       "      <td>15.758576</td>\n",
       "      <td>0</td>\n",
       "      <td>1.0</td>\n",
       "      <td>0.0</td>\n",
       "      <td>0.0</td>\n",
       "      <td>...</td>\n",
       "      <td>0.0</td>\n",
       "      <td>0.0</td>\n",
       "      <td>0.0</td>\n",
       "      <td>0.0</td>\n",
       "      <td>0.0</td>\n",
       "      <td>0.0</td>\n",
       "      <td>0.0</td>\n",
       "      <td>0.0</td>\n",
       "      <td>0.0</td>\n",
       "      <td>0.0</td>\n",
       "    </tr>\n",
       "  </tbody>\n",
       "</table>\n",
       "<p>5 rows × 39 columns</p>\n",
       "</div>"
      ],
      "text/plain": [
       "   step     amount  oldbalanceOrg  newbalanceOrig  oldbalanceDest  \\\n",
       "0   303  12.129006      14.938972       14.997436       13.689939   \n",
       "1   356  11.278274      15.518387       15.532690       11.939633   \n",
       "2    10  14.664307      11.904696        0.000000       15.438723   \n",
       "3   238  12.339374       0.000000        0.000000       16.747694   \n",
       "4   133  12.101716       9.973433       12.214183       15.784062   \n",
       "\n",
       "   newbalanceDest  isFraud  is_CASH_IN  is_CASH_OUT  is_DEBIT  \\\n",
       "0       13.454294        0         1.0          0.0       0.0   \n",
       "1       11.213668        0         1.0          0.0       0.0   \n",
       "2       15.804476        0         0.0          0.0       0.0   \n",
       "3       16.759796        0         0.0          0.0       0.0   \n",
       "4       15.758576        0         1.0          0.0       0.0   \n",
       "\n",
       "          ...           predictedCluster_15  predictedCluster_16  \\\n",
       "0         ...                           0.0                  1.0   \n",
       "1         ...                           0.0                  0.0   \n",
       "2         ...                           0.0                  0.0   \n",
       "3         ...                           0.0                  0.0   \n",
       "4         ...                           0.0                  0.0   \n",
       "\n",
       "   predictedCluster_17  predictedCluster_18  predictedCluster_19  \\\n",
       "0                  0.0                  0.0                  0.0   \n",
       "1                  0.0                  0.0                  1.0   \n",
       "2                  0.0                  0.0                  0.0   \n",
       "3                  0.0                  0.0                  0.0   \n",
       "4                  0.0                  0.0                  0.0   \n",
       "\n",
       "   predictedCluster_20  predictedCluster_21  predictedCluster_22  \\\n",
       "0                  0.0                  0.0                  0.0   \n",
       "1                  0.0                  0.0                  0.0   \n",
       "2                  0.0                  0.0                  0.0   \n",
       "3                  0.0                  0.0                  0.0   \n",
       "4                  0.0                  0.0                  0.0   \n",
       "\n",
       "   predictedCluster_23  predictedCluster_24  \n",
       "0                  0.0                  0.0  \n",
       "1                  0.0                  0.0  \n",
       "2                  0.0                  0.0  \n",
       "3                  0.0                  0.0  \n",
       "4                  0.0                  0.0  \n",
       "\n",
       "[5 rows x 39 columns]"
      ]
     },
     "execution_count": 13,
     "metadata": {},
     "output_type": "execute_result"
    }
   ],
   "source": [
    "dfclus = pd.get_dummies(dfdum)\n",
    "dfclus.head()"
   ]
  },
  {
   "cell_type": "markdown",
   "metadata": {},
   "source": [
    "### In preparation for Grid Search, now we can create our final features set"
   ]
  },
  {
   "cell_type": "code",
   "execution_count": 14,
   "metadata": {
    "collapsed": false
   },
   "outputs": [],
   "source": [
    "features = list(set(dfclus.columns) - {'isFraud'})"
   ]
  },
  {
   "cell_type": "code",
   "execution_count": null,
   "metadata": {
    "collapsed": false
   },
   "outputs": [],
   "source": [
    "#def rmse(estimator, X, y_true, greater_is_better=False):\n",
    "    \n",
    "#    preds = estimator.predict(X)\n",
    "    \n",
    "#    return mse(y_true, preds)**.5"
   ]
  },
  {
   "cell_type": "code",
   "execution_count": 15,
   "metadata": {
    "collapsed": true
   },
   "outputs": [],
   "source": [
    "grid = [{'C': [100, 10, 1, .1, .01, .001, .0001, .00001, .000001, .0000001]}] # Create the list for gridsearch"
   ]
  },
  {
   "cell_type": "code",
   "execution_count": 16,
   "metadata": {
    "collapsed": false
   },
   "outputs": [],
   "source": [
    "# Instantiate GridSearch and then . . . wait.\n",
    "GridSearch = GridSearchCV(LinearSVC(random_state=0), grid, cv=5, n_jobs=-1)"
   ]
  },
  {
   "cell_type": "code",
   "execution_count": 17,
   "metadata": {
    "collapsed": false
   },
   "outputs": [
    {
     "data": {
      "text/plain": [
       "GridSearchCV(cv=5, error_score='raise',\n",
       "       estimator=LinearSVC(C=1.0, class_weight=None, dual=True, fit_intercept=True,\n",
       "     intercept_scaling=1, loss='squared_hinge', max_iter=1000,\n",
       "     multi_class='ovr', penalty='l2', random_state=0, tol=0.0001,\n",
       "     verbose=0),\n",
       "       fit_params={}, iid=True, n_jobs=-1,\n",
       "       param_grid=[{'C': [100, 10, 1, 0.1, 0.01, 0.001, 0.0001, 1e-05, 1e-06, 1e-07]}],\n",
       "       pre_dispatch='2*n_jobs', refit=True, return_train_score=True,\n",
       "       scoring=None, verbose=0)"
      ]
     },
     "execution_count": 17,
     "metadata": {},
     "output_type": "execute_result"
    }
   ],
   "source": [
    "# And fit! and wait! The nice thins is that GridSearch will automatically refit the best performing model \n",
    "# to the entire training set\n",
    "GridSearch.fit(dfclus[features], dfclus.isFraud)"
   ]
  },
  {
   "cell_type": "code",
   "execution_count": 18,
   "metadata": {
    "collapsed": false
   },
   "outputs": [
    {
     "data": {
      "text/plain": [
       "0.99925541591602507"
      ]
     },
     "execution_count": 18,
     "metadata": {},
     "output_type": "execute_result"
    }
   ],
   "source": [
    "# Let's take a look at our best score:\n",
    "GridSearch.best_score_"
   ]
  },
  {
   "cell_type": "code",
   "execution_count": 19,
   "metadata": {
    "collapsed": false
   },
   "outputs": [
    {
     "data": {
      "text/plain": [
       "{'C': 0.01}"
      ]
     },
     "execution_count": 19,
     "metadata": {},
     "output_type": "execute_result"
    }
   ],
   "source": [
    "# and parameters . . .\n",
    "GridSearch.best_params_"
   ]
  },
  {
   "cell_type": "code",
   "execution_count": 20,
   "metadata": {
    "collapsed": false
   },
   "outputs": [
    {
     "data": {
      "text/plain": [
       "LinearSVC(C=0.01, class_weight=None, dual=True, fit_intercept=True,\n",
       "     intercept_scaling=1, loss='squared_hinge', max_iter=1000,\n",
       "     multi_class='ovr', penalty='l2', random_state=0, tol=0.0001,\n",
       "     verbose=0)"
      ]
     },
     "execution_count": 20,
     "metadata": {},
     "output_type": "execute_result"
    }
   ],
   "source": [
    "# and estimator as a whole!\n",
    "GridSearch.best_estimator_"
   ]
  },
  {
   "cell_type": "markdown",
   "metadata": {
    "collapsed": true
   },
   "source": [
    "### Rinse and Repeat\n",
    "\n",
    "Now we'll repeat our feature engineering from above on the test set."
   ]
  },
  {
   "cell_type": "code",
   "execution_count": 21,
   "metadata": {
    "collapsed": false
   },
   "outputs": [],
   "source": [
    "# Read in the dataset remembering that it does not have our target so the shape is slightly different.\n",
    "dft = pd.read_csv('~/rouest/project-submissions/data/test.csv')"
   ]
  },
  {
   "cell_type": "code",
   "execution_count": 22,
   "metadata": {
    "collapsed": false
   },
   "outputs": [
    {
     "data": {
      "text/html": [
       "<div>\n",
       "<table border=\"1\" class=\"dataframe\">\n",
       "  <thead>\n",
       "    <tr style=\"text-align: right;\">\n",
       "      <th></th>\n",
       "      <th>step</th>\n",
       "      <th>type</th>\n",
       "      <th>amount</th>\n",
       "      <th>nameOrig</th>\n",
       "      <th>oldbalanceOrg</th>\n",
       "      <th>newbalanceOrig</th>\n",
       "      <th>nameDest</th>\n",
       "      <th>oldbalanceDest</th>\n",
       "      <th>newbalanceDest</th>\n",
       "      <th>id</th>\n",
       "      <th>nameDestCat</th>\n",
       "    </tr>\n",
       "  </thead>\n",
       "  <tbody>\n",
       "    <tr>\n",
       "      <th>0</th>\n",
       "      <td>257</td>\n",
       "      <td>CASH_OUT</td>\n",
       "      <td>208758.36</td>\n",
       "      <td>C1628429873</td>\n",
       "      <td>186770.00</td>\n",
       "      <td>0.00</td>\n",
       "      <td>C703878081</td>\n",
       "      <td>98209.59</td>\n",
       "      <td>306967.94</td>\n",
       "      <td>98777</td>\n",
       "      <td>C</td>\n",
       "    </tr>\n",
       "    <tr>\n",
       "      <th>1</th>\n",
       "      <td>375</td>\n",
       "      <td>PAYMENT</td>\n",
       "      <td>8078.82</td>\n",
       "      <td>C1642149666</td>\n",
       "      <td>40458.00</td>\n",
       "      <td>32379.18</td>\n",
       "      <td>M1726657457</td>\n",
       "      <td>0.00</td>\n",
       "      <td>0.00</td>\n",
       "      <td>397457</td>\n",
       "      <td>M</td>\n",
       "    </tr>\n",
       "    <tr>\n",
       "      <th>2</th>\n",
       "      <td>168</td>\n",
       "      <td>CASH_OUT</td>\n",
       "      <td>60783.19</td>\n",
       "      <td>C346779827</td>\n",
       "      <td>0.00</td>\n",
       "      <td>0.00</td>\n",
       "      <td>C1063782390</td>\n",
       "      <td>747531.29</td>\n",
       "      <td>808314.48</td>\n",
       "      <td>592225</td>\n",
       "      <td>C</td>\n",
       "    </tr>\n",
       "    <tr>\n",
       "      <th>3</th>\n",
       "      <td>590</td>\n",
       "      <td>CASH_IN</td>\n",
       "      <td>267290.88</td>\n",
       "      <td>C713342712</td>\n",
       "      <td>4646500.36</td>\n",
       "      <td>4913791.24</td>\n",
       "      <td>C1390373129</td>\n",
       "      <td>299549.13</td>\n",
       "      <td>32258.25</td>\n",
       "      <td>425029</td>\n",
       "      <td>C</td>\n",
       "    </tr>\n",
       "    <tr>\n",
       "      <th>4</th>\n",
       "      <td>377</td>\n",
       "      <td>CASH_IN</td>\n",
       "      <td>226575.08</td>\n",
       "      <td>C1831624676</td>\n",
       "      <td>7615712.40</td>\n",
       "      <td>7842287.48</td>\n",
       "      <td>C1453112071</td>\n",
       "      <td>1822519.59</td>\n",
       "      <td>1595944.51</td>\n",
       "      <td>118706</td>\n",
       "      <td>C</td>\n",
       "    </tr>\n",
       "  </tbody>\n",
       "</table>\n",
       "</div>"
      ],
      "text/plain": [
       "   step      type     amount     nameOrig  oldbalanceOrg  newbalanceOrig  \\\n",
       "0   257  CASH_OUT  208758.36  C1628429873      186770.00            0.00   \n",
       "1   375   PAYMENT    8078.82  C1642149666       40458.00        32379.18   \n",
       "2   168  CASH_OUT   60783.19   C346779827           0.00            0.00   \n",
       "3   590   CASH_IN  267290.88   C713342712     4646500.36      4913791.24   \n",
       "4   377   CASH_IN  226575.08  C1831624676     7615712.40      7842287.48   \n",
       "\n",
       "      nameDest  oldbalanceDest  newbalanceDest      id nameDestCat  \n",
       "0   C703878081        98209.59       306967.94   98777           C  \n",
       "1  M1726657457            0.00            0.00  397457           M  \n",
       "2  C1063782390       747531.29       808314.48  592225           C  \n",
       "3  C1390373129       299549.13        32258.25  425029           C  \n",
       "4  C1453112071      1822519.59      1595944.51  118706           C  "
      ]
     },
     "execution_count": 22,
     "metadata": {},
     "output_type": "execute_result"
    }
   ],
   "source": [
    "dft['nameDestCat'] = dft.nameDest.apply(lambda x: x[0])\n",
    "dft.head()"
   ]
  },
  {
   "cell_type": "code",
   "execution_count": 23,
   "metadata": {
    "collapsed": false
   },
   "outputs": [],
   "source": [
    "dftalt = dft.ix[:, [0, 1, 2, 4, 5, 7, 8, 10]]"
   ]
  },
  {
   "cell_type": "code",
   "execution_count": 24,
   "metadata": {
    "collapsed": false
   },
   "outputs": [
    {
     "name": "stderr",
     "output_type": "stream",
     "text": [
      "//anaconda/lib/python3.5/site-packages/pandas/core/generic.py:2701: SettingWithCopyWarning: \n",
      "A value is trying to be set on a copy of a slice from a DataFrame.\n",
      "Try using .loc[row_indexer,col_indexer] = value instead\n",
      "\n",
      "See the caveats in the documentation: http://pandas.pydata.org/pandas-docs/stable/indexing.html#indexing-view-versus-copy\n",
      "  self[name] = value\n"
     ]
    }
   ],
   "source": [
    "dftalt.amount = np.log1p(dftalt.amount)\n",
    "dftalt.oldbalanceOrg = np.log1p(dftalt.oldbalanceOrg)\n",
    "dftalt.newbalanceOrig = np.log1p(dftalt.newbalanceOrig)\n",
    "dftalt.oldbalanceDest = np.log1p(dftalt.oldbalanceDest)\n",
    "dftalt.newbalanceDest = np.log1p(dftalt.newbalanceDest)"
   ]
  },
  {
   "cell_type": "code",
   "execution_count": 25,
   "metadata": {
    "collapsed": false
   },
   "outputs": [],
   "source": [
    "dftdum = pd.get_dummies(dftalt, prefix='is')"
   ]
  },
  {
   "cell_type": "code",
   "execution_count": 26,
   "metadata": {
    "collapsed": true
   },
   "outputs": [],
   "source": [
    "features = list(set(dftdum.columns) - {'isFraud'})"
   ]
  },
  {
   "cell_type": "code",
   "execution_count": 27,
   "metadata": {
    "collapsed": false
   },
   "outputs": [
    {
     "data": {
      "text/plain": [
       "KMeans(algorithm='auto', copy_x=True, init='k-means++', max_iter=300,\n",
       "    n_clusters=25, n_init=10, n_jobs=-1, precompute_distances='auto',\n",
       "    random_state=0, tol=0.0001, verbose=0)"
      ]
     },
     "execution_count": 27,
     "metadata": {},
     "output_type": "execute_result"
    }
   ],
   "source": [
    "#kmeans = KMeans(n_clusters=25, random_state=0, n_jobs=-1)\n",
    "kmeans.fit(dftdum[features])"
   ]
  },
  {
   "cell_type": "code",
   "execution_count": 28,
   "metadata": {
    "collapsed": true
   },
   "outputs": [],
   "source": [
    "predictedLabels = kmeans.predict(dftdum[features])\n",
    "dftdum['predictedCluster'] = predictedLabels\n",
    "dftdum['predictedCluster'] = dftdum.predictedCluster.astype('object')"
   ]
  },
  {
   "cell_type": "code",
   "execution_count": 29,
   "metadata": {
    "collapsed": false
   },
   "outputs": [
    {
     "data": {
      "text/html": [
       "<div>\n",
       "<table border=\"1\" class=\"dataframe\">\n",
       "  <thead>\n",
       "    <tr style=\"text-align: right;\">\n",
       "      <th></th>\n",
       "      <th>step</th>\n",
       "      <th>amount</th>\n",
       "      <th>oldbalanceOrg</th>\n",
       "      <th>newbalanceOrig</th>\n",
       "      <th>oldbalanceDest</th>\n",
       "      <th>newbalanceDest</th>\n",
       "      <th>is_CASH_IN</th>\n",
       "      <th>is_CASH_OUT</th>\n",
       "      <th>is_DEBIT</th>\n",
       "      <th>is_PAYMENT</th>\n",
       "      <th>...</th>\n",
       "      <th>predictedCluster_15</th>\n",
       "      <th>predictedCluster_16</th>\n",
       "      <th>predictedCluster_17</th>\n",
       "      <th>predictedCluster_18</th>\n",
       "      <th>predictedCluster_19</th>\n",
       "      <th>predictedCluster_20</th>\n",
       "      <th>predictedCluster_21</th>\n",
       "      <th>predictedCluster_22</th>\n",
       "      <th>predictedCluster_23</th>\n",
       "      <th>predictedCluster_24</th>\n",
       "    </tr>\n",
       "  </thead>\n",
       "  <tbody>\n",
       "    <tr>\n",
       "      <th>0</th>\n",
       "      <td>257</td>\n",
       "      <td>12.248937</td>\n",
       "      <td>12.137639</td>\n",
       "      <td>0.000000</td>\n",
       "      <td>11.494869</td>\n",
       "      <td>12.634502</td>\n",
       "      <td>0.0</td>\n",
       "      <td>1.0</td>\n",
       "      <td>0.0</td>\n",
       "      <td>0.0</td>\n",
       "      <td>...</td>\n",
       "      <td>0.0</td>\n",
       "      <td>0.0</td>\n",
       "      <td>0.0</td>\n",
       "      <td>0.0</td>\n",
       "      <td>0.0</td>\n",
       "      <td>0.0</td>\n",
       "      <td>0.0</td>\n",
       "      <td>1.0</td>\n",
       "      <td>0.0</td>\n",
       "      <td>0.0</td>\n",
       "    </tr>\n",
       "    <tr>\n",
       "      <th>1</th>\n",
       "      <td>375</td>\n",
       "      <td>8.997125</td>\n",
       "      <td>10.608044</td>\n",
       "      <td>10.385302</td>\n",
       "      <td>0.000000</td>\n",
       "      <td>0.000000</td>\n",
       "      <td>0.0</td>\n",
       "      <td>0.0</td>\n",
       "      <td>0.0</td>\n",
       "      <td>1.0</td>\n",
       "      <td>...</td>\n",
       "      <td>0.0</td>\n",
       "      <td>0.0</td>\n",
       "      <td>0.0</td>\n",
       "      <td>0.0</td>\n",
       "      <td>0.0</td>\n",
       "      <td>0.0</td>\n",
       "      <td>0.0</td>\n",
       "      <td>0.0</td>\n",
       "      <td>0.0</td>\n",
       "      <td>0.0</td>\n",
       "    </tr>\n",
       "    <tr>\n",
       "      <th>2</th>\n",
       "      <td>168</td>\n",
       "      <td>11.015085</td>\n",
       "      <td>0.000000</td>\n",
       "      <td>0.000000</td>\n",
       "      <td>13.524533</td>\n",
       "      <td>13.602708</td>\n",
       "      <td>0.0</td>\n",
       "      <td>1.0</td>\n",
       "      <td>0.0</td>\n",
       "      <td>0.0</td>\n",
       "      <td>...</td>\n",
       "      <td>0.0</td>\n",
       "      <td>0.0</td>\n",
       "      <td>0.0</td>\n",
       "      <td>0.0</td>\n",
       "      <td>0.0</td>\n",
       "      <td>0.0</td>\n",
       "      <td>0.0</td>\n",
       "      <td>0.0</td>\n",
       "      <td>0.0</td>\n",
       "      <td>0.0</td>\n",
       "    </tr>\n",
       "    <tr>\n",
       "      <th>3</th>\n",
       "      <td>590</td>\n",
       "      <td>12.496097</td>\n",
       "      <td>15.351625</td>\n",
       "      <td>15.407557</td>\n",
       "      <td>12.610037</td>\n",
       "      <td>10.381560</td>\n",
       "      <td>1.0</td>\n",
       "      <td>0.0</td>\n",
       "      <td>0.0</td>\n",
       "      <td>0.0</td>\n",
       "      <td>...</td>\n",
       "      <td>0.0</td>\n",
       "      <td>0.0</td>\n",
       "      <td>0.0</td>\n",
       "      <td>0.0</td>\n",
       "      <td>0.0</td>\n",
       "      <td>0.0</td>\n",
       "      <td>0.0</td>\n",
       "      <td>0.0</td>\n",
       "      <td>0.0</td>\n",
       "      <td>0.0</td>\n",
       "    </tr>\n",
       "    <tr>\n",
       "      <th>4</th>\n",
       "      <td>377</td>\n",
       "      <td>12.330836</td>\n",
       "      <td>15.845724</td>\n",
       "      <td>15.875041</td>\n",
       "      <td>14.415731</td>\n",
       "      <td>14.282977</td>\n",
       "      <td>1.0</td>\n",
       "      <td>0.0</td>\n",
       "      <td>0.0</td>\n",
       "      <td>0.0</td>\n",
       "      <td>...</td>\n",
       "      <td>0.0</td>\n",
       "      <td>0.0</td>\n",
       "      <td>0.0</td>\n",
       "      <td>0.0</td>\n",
       "      <td>0.0</td>\n",
       "      <td>0.0</td>\n",
       "      <td>0.0</td>\n",
       "      <td>0.0</td>\n",
       "      <td>0.0</td>\n",
       "      <td>0.0</td>\n",
       "    </tr>\n",
       "  </tbody>\n",
       "</table>\n",
       "<p>5 rows × 38 columns</p>\n",
       "</div>"
      ],
      "text/plain": [
       "   step     amount  oldbalanceOrg  newbalanceOrig  oldbalanceDest  \\\n",
       "0   257  12.248937      12.137639        0.000000       11.494869   \n",
       "1   375   8.997125      10.608044       10.385302        0.000000   \n",
       "2   168  11.015085       0.000000        0.000000       13.524533   \n",
       "3   590  12.496097      15.351625       15.407557       12.610037   \n",
       "4   377  12.330836      15.845724       15.875041       14.415731   \n",
       "\n",
       "   newbalanceDest  is_CASH_IN  is_CASH_OUT  is_DEBIT  is_PAYMENT  \\\n",
       "0       12.634502         0.0          1.0       0.0         0.0   \n",
       "1        0.000000         0.0          0.0       0.0         1.0   \n",
       "2       13.602708         0.0          1.0       0.0         0.0   \n",
       "3       10.381560         1.0          0.0       0.0         0.0   \n",
       "4       14.282977         1.0          0.0       0.0         0.0   \n",
       "\n",
       "          ...           predictedCluster_15  predictedCluster_16  \\\n",
       "0         ...                           0.0                  0.0   \n",
       "1         ...                           0.0                  0.0   \n",
       "2         ...                           0.0                  0.0   \n",
       "3         ...                           0.0                  0.0   \n",
       "4         ...                           0.0                  0.0   \n",
       "\n",
       "   predictedCluster_17  predictedCluster_18  predictedCluster_19  \\\n",
       "0                  0.0                  0.0                  0.0   \n",
       "1                  0.0                  0.0                  0.0   \n",
       "2                  0.0                  0.0                  0.0   \n",
       "3                  0.0                  0.0                  0.0   \n",
       "4                  0.0                  0.0                  0.0   \n",
       "\n",
       "   predictedCluster_20  predictedCluster_21  predictedCluster_22  \\\n",
       "0                  0.0                  0.0                  1.0   \n",
       "1                  0.0                  0.0                  0.0   \n",
       "2                  0.0                  0.0                  0.0   \n",
       "3                  0.0                  0.0                  0.0   \n",
       "4                  0.0                  0.0                  0.0   \n",
       "\n",
       "   predictedCluster_23  predictedCluster_24  \n",
       "0                  0.0                  0.0  \n",
       "1                  0.0                  0.0  \n",
       "2                  0.0                  0.0  \n",
       "3                  0.0                  0.0  \n",
       "4                  0.0                  0.0  \n",
       "\n",
       "[5 rows x 38 columns]"
      ]
     },
     "execution_count": 29,
     "metadata": {},
     "output_type": "execute_result"
    }
   ],
   "source": [
    "dftclus = pd.get_dummies(dftdum)\n",
    "#dftclus.head()"
   ]
  },
  {
   "cell_type": "code",
   "execution_count": 30,
   "metadata": {
    "collapsed": false
   },
   "outputs": [],
   "source": [
    "features = list(set(dftclus.columns) - {'isFraud'})"
   ]
  },
  {
   "cell_type": "markdown",
   "metadata": {
    "collapsed": false
   },
   "source": [
    "### The time has come!\n",
    "\n",
    "To make our predictions on the modified test set."
   ]
  },
  {
   "cell_type": "code",
   "execution_count": 31,
   "metadata": {
    "collapsed": false
   },
   "outputs": [
    {
     "data": {
      "text/plain": [
       "array([-0.84425539, -2.04256494, -4.49793334, ..., -2.0997208 ,\n",
       "       -4.66266477, -3.88519909])"
      ]
     },
     "execution_count": 31,
     "metadata": {},
     "output_type": "execute_result"
    }
   ],
   "source": [
    "# We're using the decision_function for roc_auc.\n",
    "predictionLabel = GridSearch.decision_function(dftclus[features])"
   ]
  },
  {
   "cell_type": "code",
   "execution_count": 36,
   "metadata": {
    "collapsed": false
   },
   "outputs": [],
   "source": [
    "preds = predictionLabel.tolist()\n",
    "submit = {'Prediction': preds, 'id': dft['id']}\n",
    "submit = pd.DataFrame(submit)"
   ]
  },
  {
   "cell_type": "code",
   "execution_count": null,
   "metadata": {
    "collapsed": false
   },
   "outputs": [],
   "source": [
    "# Create the csv for submission!\n",
    "submit.to_csv('rouestsub26.csv', index = False)"
   ]
  }
 ],
 "metadata": {
  "anaconda-cloud": {},
  "kernelspec": {
   "display_name": "Python [default]",
   "language": "python",
   "name": "python3"
  },
  "language_info": {
   "codemirror_mode": {
    "name": "ipython",
    "version": 3
   },
   "file_extension": ".py",
   "mimetype": "text/x-python",
   "name": "python",
   "nbconvert_exporter": "python",
   "pygments_lexer": "ipython3",
   "version": "3.5.2"
  }
 },
 "nbformat": 4,
 "nbformat_minor": 1
}
